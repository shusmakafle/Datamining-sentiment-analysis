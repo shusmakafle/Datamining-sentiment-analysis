{
 "cells": [
  {
   "cell_type": "code",
   "execution_count": 78,
   "id": "e9c72d17-3b5e-489e-8398-3d387e8915f0",
   "metadata": {
    "id": "e9c72d17-3b5e-489e-8398-3d387e8915f0"
   },
   "outputs": [],
   "source": [
    "\n",
    "\n",
    "\n",
    "\n",
    "\n",
    "\n",
    "\n",
    "\n",
    "\n",
    "\n",
    "\n",
    "\n",
    "\n",
    "\n",
    "\n",
    "\n",
    "\n",
    "\n",
    "\n",
    "\n",
    "\n",
    "\n",
    "\n",
    "\n",
    "\n",
    "\n",
    "\n",
    "\n",
    "\n",
    "\n",
    "\n",
    "%reload_ext autoreload\n",
    "%autoreload 2"
   ]
  },
  {
   "cell_type": "code",
   "execution_count": 1,
   "id": "c7791e3b",
   "metadata": {},
   "outputs": [
    {
     "ename": "NameError",
     "evalue": "name 'python' is not defined",
     "output_type": "error",
     "traceback": [
      "\u001b[1;31m---------------------------------------------------------------------------\u001b[0m",
      "\u001b[1;31mNameError\u001b[0m                                 Traceback (most recent call last)",
      "\u001b[1;32m<ipython-input-1-a4637bbefc43>\u001b[0m in \u001b[0;36m<module>\u001b[1;34m\u001b[0m\n\u001b[1;32m----> 1\u001b[1;33m \u001b[0mpython\u001b[0m \u001b[1;33m-\u001b[0m\u001b[1;33m-\u001b[0m\u001b[0mversion\u001b[0m\u001b[1;33m\u001b[0m\u001b[1;33m\u001b[0m\u001b[0m\n\u001b[0m",
      "\u001b[1;31mNameError\u001b[0m: name 'python' is not defined"
     ]
    }
   ],
   "source": [
    "python --version"
   ]
  },
  {
   "cell_type": "code",
   "execution_count": 79,
   "id": "27e81325-6090-4177-851a-fc848a30cb5f",
   "metadata": {
    "id": "27e81325-6090-4177-851a-fc848a30cb5f"
   },
   "outputs": [],
   "source": [
    "import os\n",
    "from collections import defaultdict\n",
    "\n",
    "from string import punctuation\n",
    "\n",
    "import numpy as np\n",
    "import pandas as pd\n",
    "\n",
    "from sklearn.model_selection import train_test_split\n",
    "\n",
    "from imblearn.over_sampling import SMOTE\n",
    "from sklearn.feature_extraction.text import TfidfVectorizer\n",
    "from matplotlib import pyplot as plt\n",
    "\n",
    "#Using different Classifiers for training\n",
    "from sklearn.naive_bayes import MultinomialNB\n",
    "from sklearn.linear_model import SGDClassifier\n",
    "from sklearn.linear_model import LogisticRegression\n",
    "from sklearn.tree import DecisionTreeClassifier\n",
    "from sklearn.neighbors import KNeighborsClassifier\n",
    "from sklearn.ensemble import RandomForestClassifier\n",
    "from sklearn.metrics import classification_report, plot_confusion_matrix\n"
   ]
  },
  {
   "cell_type": "code",
   "execution_count": 80,
   "id": "e72a6a8e-d509-401e-8d45-bd8dd7ab6d83",
   "metadata": {
    "id": "e72a6a8e-d509-401e-8d45-bd8dd7ab6d83"
   },
   "outputs": [],
   "source": [
    "training_path = \"./data/1429_1.csv\""
   ]
  },
  {
   "cell_type": "code",
   "execution_count": 81,
   "id": "6d1ada7f-e6b3-4e9d-9fe9-f49b746767b0",
   "metadata": {
    "colab": {
     "base_uri": "https://localhost:8080/"
    },
    "id": "6d1ada7f-e6b3-4e9d-9fe9-f49b746767b0",
    "outputId": "9ed2a367-3f91-4f3f-bc2d-1a670a9daa86"
   },
   "outputs": [
    {
     "name": "stderr",
     "output_type": "stream",
     "text": [
      "/share/apps/rc/software/Anaconda3/2021.11/lib/python3.9/site-packages/IPython/core/interactiveshell.py:3444: DtypeWarning: Columns (1,10) have mixed types.Specify dtype option on import or set low_memory=False.\n",
      "  exec(code_obj, self.user_global_ns, self.user_ns)\n"
     ]
    }
   ],
   "source": [
    "df = pd.read_csv(training_path)"
   ]
  },
  {
   "cell_type": "code",
   "execution_count": 82,
   "id": "AOXdxMAFppyI",
   "metadata": {
    "id": "AOXdxMAFppyI"
   },
   "outputs": [],
   "source": [
    "df = df[['name', 'categories', 'reviews.doRecommend', 'reviews.rating', 'reviews.text', 'reviews.title']]"
   ]
  },
  {
   "cell_type": "code",
   "execution_count": 83,
   "id": "n0cFgtm-wVLW",
   "metadata": {
    "id": "n0cFgtm-wVLW"
   },
   "outputs": [],
   "source": [
    "df = df.rename(columns={'name': 'name', 'categories': 'categories', 'reviews.doRecommend': 'recommend', 'reviews.rating': 'rating', 'reviews.text': 'review', 'reviews.title': 'title'})"
   ]
  },
  {
   "cell_type": "code",
   "execution_count": 84,
   "id": "dQTyZ3M-xU0X",
   "metadata": {
    "id": "dQTyZ3M-xU0X"
   },
   "outputs": [],
   "source": [
    "# drop rows with no rating\n",
    "df = df.dropna()"
   ]
  },
  {
   "cell_type": "code",
   "execution_count": 85,
   "id": "ZZ9_jms5zBJL",
   "metadata": {
    "colab": {
     "base_uri": "https://localhost:8080/"
    },
    "id": "ZZ9_jms5zBJL",
    "outputId": "cca9efa9-9df9-448f-cf66-afed2e191baa"
   },
   "outputs": [
    {
     "data": {
      "text/plain": [
       "(27407, 6)"
      ]
     },
     "execution_count": 85,
     "metadata": {},
     "output_type": "execute_result"
    }
   ],
   "source": [
    "df.shape"
   ]
  },
  {
   "cell_type": "code",
   "execution_count": 86,
   "id": "c23d711a-6ee1-444c-bf03-a9734d05391d",
   "metadata": {
    "id": "c23d711a-6ee1-444c-bf03-a9734d05391d"
   },
   "outputs": [],
   "source": [
    "def get_target(row):\n",
    "    if int(row['rating']) < 3:\n",
    "        return 0\n",
    "    elif row['rating'] > 3:\n",
    "        return 1\n",
    "    else:\n",
    "        return -1\n",
    "#         return 2"
   ]
  },
  {
   "cell_type": "code",
   "execution_count": 87,
   "id": "6ff563f2-fda3-4e5a-8ba6-cec1ac316ceb",
   "metadata": {
    "id": "6ff563f2-fda3-4e5a-8ba6-cec1ac316ceb"
   },
   "outputs": [],
   "source": [
    "# assign sentiment based on rating\n",
    "df['sentiment'] = df.apply(lambda row: get_target(row), axis=1)"
   ]
  },
  {
   "cell_type": "code",
   "execution_count": 88,
   "id": "dd77afbc-05e5-47a8-b33e-6b09769ea80c",
   "metadata": {
    "colab": {
     "base_uri": "https://localhost:8080/",
     "height": 337
    },
    "id": "dd77afbc-05e5-47a8-b33e-6b09769ea80c",
    "outputId": "b22a2955-18d0-4477-86eb-9db6d9db38e0"
   },
   "outputs": [
    {
     "data": {
      "text/html": [
       "<div>\n",
       "<style scoped>\n",
       "    .dataframe tbody tr th:only-of-type {\n",
       "        vertical-align: middle;\n",
       "    }\n",
       "\n",
       "    .dataframe tbody tr th {\n",
       "        vertical-align: top;\n",
       "    }\n",
       "\n",
       "    .dataframe thead th {\n",
       "        text-align: right;\n",
       "    }\n",
       "</style>\n",
       "<table border=\"1\" class=\"dataframe\">\n",
       "  <thead>\n",
       "    <tr style=\"text-align: right;\">\n",
       "      <th></th>\n",
       "      <th>name</th>\n",
       "      <th>categories</th>\n",
       "      <th>recommend</th>\n",
       "      <th>rating</th>\n",
       "      <th>review</th>\n",
       "      <th>title</th>\n",
       "      <th>sentiment</th>\n",
       "    </tr>\n",
       "  </thead>\n",
       "  <tbody>\n",
       "    <tr>\n",
       "      <th>0</th>\n",
       "      <td>All-New Fire HD 8 Tablet, 8 HD Display, Wi-Fi,...</td>\n",
       "      <td>Electronics,iPad &amp; Tablets,All Tablets,Fire Ta...</td>\n",
       "      <td>True</td>\n",
       "      <td>5.0</td>\n",
       "      <td>This product so far has not disappointed. My c...</td>\n",
       "      <td>Kindle</td>\n",
       "      <td>1</td>\n",
       "    </tr>\n",
       "    <tr>\n",
       "      <th>1</th>\n",
       "      <td>All-New Fire HD 8 Tablet, 8 HD Display, Wi-Fi,...</td>\n",
       "      <td>Electronics,iPad &amp; Tablets,All Tablets,Fire Ta...</td>\n",
       "      <td>True</td>\n",
       "      <td>5.0</td>\n",
       "      <td>great for beginner or experienced person. Boug...</td>\n",
       "      <td>very fast</td>\n",
       "      <td>1</td>\n",
       "    </tr>\n",
       "    <tr>\n",
       "      <th>2</th>\n",
       "      <td>All-New Fire HD 8 Tablet, 8 HD Display, Wi-Fi,...</td>\n",
       "      <td>Electronics,iPad &amp; Tablets,All Tablets,Fire Ta...</td>\n",
       "      <td>True</td>\n",
       "      <td>5.0</td>\n",
       "      <td>Inexpensive tablet for him to use and learn on...</td>\n",
       "      <td>Beginner tablet for our 9 year old son.</td>\n",
       "      <td>1</td>\n",
       "    </tr>\n",
       "    <tr>\n",
       "      <th>3</th>\n",
       "      <td>All-New Fire HD 8 Tablet, 8 HD Display, Wi-Fi,...</td>\n",
       "      <td>Electronics,iPad &amp; Tablets,All Tablets,Fire Ta...</td>\n",
       "      <td>True</td>\n",
       "      <td>4.0</td>\n",
       "      <td>I've had my Fire HD 8 two weeks now and I love...</td>\n",
       "      <td>Good!!!</td>\n",
       "      <td>1</td>\n",
       "    </tr>\n",
       "    <tr>\n",
       "      <th>4</th>\n",
       "      <td>All-New Fire HD 8 Tablet, 8 HD Display, Wi-Fi,...</td>\n",
       "      <td>Electronics,iPad &amp; Tablets,All Tablets,Fire Ta...</td>\n",
       "      <td>True</td>\n",
       "      <td>5.0</td>\n",
       "      <td>I bought this for my grand daughter when she c...</td>\n",
       "      <td>Fantastic Tablet for kids</td>\n",
       "      <td>1</td>\n",
       "    </tr>\n",
       "  </tbody>\n",
       "</table>\n",
       "</div>"
      ],
      "text/plain": [
       "                                                name  \\\n",
       "0  All-New Fire HD 8 Tablet, 8 HD Display, Wi-Fi,...   \n",
       "1  All-New Fire HD 8 Tablet, 8 HD Display, Wi-Fi,...   \n",
       "2  All-New Fire HD 8 Tablet, 8 HD Display, Wi-Fi,...   \n",
       "3  All-New Fire HD 8 Tablet, 8 HD Display, Wi-Fi,...   \n",
       "4  All-New Fire HD 8 Tablet, 8 HD Display, Wi-Fi,...   \n",
       "\n",
       "                                          categories recommend  rating  \\\n",
       "0  Electronics,iPad & Tablets,All Tablets,Fire Ta...      True     5.0   \n",
       "1  Electronics,iPad & Tablets,All Tablets,Fire Ta...      True     5.0   \n",
       "2  Electronics,iPad & Tablets,All Tablets,Fire Ta...      True     5.0   \n",
       "3  Electronics,iPad & Tablets,All Tablets,Fire Ta...      True     4.0   \n",
       "4  Electronics,iPad & Tablets,All Tablets,Fire Ta...      True     5.0   \n",
       "\n",
       "                                              review  \\\n",
       "0  This product so far has not disappointed. My c...   \n",
       "1  great for beginner or experienced person. Boug...   \n",
       "2  Inexpensive tablet for him to use and learn on...   \n",
       "3  I've had my Fire HD 8 two weeks now and I love...   \n",
       "4  I bought this for my grand daughter when she c...   \n",
       "\n",
       "                                     title  sentiment  \n",
       "0                                   Kindle          1  \n",
       "1                                very fast          1  \n",
       "2  Beginner tablet for our 9 year old son.          1  \n",
       "3                                  Good!!!          1  \n",
       "4                Fantastic Tablet for kids          1  "
      ]
     },
     "execution_count": 88,
     "metadata": {},
     "output_type": "execute_result"
    }
   ],
   "source": [
    "df.head()"
   ]
  },
  {
   "cell_type": "code",
   "execution_count": 89,
   "id": "0XXIST2Ty5i3",
   "metadata": {
    "colab": {
     "base_uri": "https://localhost:8080/"
    },
    "id": "0XXIST2Ty5i3",
    "outputId": "c3a991b7-6cde-4556-db52-1a1cd0e50c2a"
   },
   "outputs": [
    {
     "data": {
      "text/plain": [
       "(27407, 7)"
      ]
     },
     "execution_count": 89,
     "metadata": {},
     "output_type": "execute_result"
    }
   ],
   "source": [
    "df.shape"
   ]
  },
  {
   "cell_type": "code",
   "execution_count": 90,
   "id": "SuUdicvlx6yd",
   "metadata": {
    "id": "SuUdicvlx6yd"
   },
   "outputs": [],
   "source": [
    "def filter_df(row) -> bool:\n",
    "  if row.sentiment == 1 and not bool(row.recommend):\n",
    "    return False\n",
    "  elif row.sentiment == 0 and bool(row.recommend):\n",
    "    return False\n",
    "  \n",
    "  return True"
   ]
  },
  {
   "cell_type": "code",
   "execution_count": 91,
   "id": "invBvVqeylRB",
   "metadata": {
    "id": "invBvVqeylRB"
   },
   "outputs": [],
   "source": [
    "df = pd.DataFrame(list(filter(filter_df, df.itertuples())))"
   ]
  },
  {
   "cell_type": "code",
   "execution_count": 92,
   "id": "da56ac97",
   "metadata": {},
   "outputs": [
    {
     "data": {
      "text/html": [
       "<div>\n",
       "<style scoped>\n",
       "    .dataframe tbody tr th:only-of-type {\n",
       "        vertical-align: middle;\n",
       "    }\n",
       "\n",
       "    .dataframe tbody tr th {\n",
       "        vertical-align: top;\n",
       "    }\n",
       "\n",
       "    .dataframe thead th {\n",
       "        text-align: right;\n",
       "    }\n",
       "</style>\n",
       "<table border=\"1\" class=\"dataframe\">\n",
       "  <thead>\n",
       "    <tr style=\"text-align: right;\">\n",
       "      <th></th>\n",
       "      <th>Index</th>\n",
       "      <th>name</th>\n",
       "      <th>categories</th>\n",
       "      <th>recommend</th>\n",
       "      <th>rating</th>\n",
       "      <th>review</th>\n",
       "      <th>title</th>\n",
       "      <th>sentiment</th>\n",
       "    </tr>\n",
       "  </thead>\n",
       "  <tbody>\n",
       "    <tr>\n",
       "      <th>0</th>\n",
       "      <td>0</td>\n",
       "      <td>All-New Fire HD 8 Tablet, 8 HD Display, Wi-Fi,...</td>\n",
       "      <td>Electronics,iPad &amp; Tablets,All Tablets,Fire Ta...</td>\n",
       "      <td>True</td>\n",
       "      <td>5.0</td>\n",
       "      <td>This product so far has not disappointed. My c...</td>\n",
       "      <td>Kindle</td>\n",
       "      <td>1</td>\n",
       "    </tr>\n",
       "    <tr>\n",
       "      <th>1</th>\n",
       "      <td>1</td>\n",
       "      <td>All-New Fire HD 8 Tablet, 8 HD Display, Wi-Fi,...</td>\n",
       "      <td>Electronics,iPad &amp; Tablets,All Tablets,Fire Ta...</td>\n",
       "      <td>True</td>\n",
       "      <td>5.0</td>\n",
       "      <td>great for beginner or experienced person. Boug...</td>\n",
       "      <td>very fast</td>\n",
       "      <td>1</td>\n",
       "    </tr>\n",
       "    <tr>\n",
       "      <th>2</th>\n",
       "      <td>2</td>\n",
       "      <td>All-New Fire HD 8 Tablet, 8 HD Display, Wi-Fi,...</td>\n",
       "      <td>Electronics,iPad &amp; Tablets,All Tablets,Fire Ta...</td>\n",
       "      <td>True</td>\n",
       "      <td>5.0</td>\n",
       "      <td>Inexpensive tablet for him to use and learn on...</td>\n",
       "      <td>Beginner tablet for our 9 year old son.</td>\n",
       "      <td>1</td>\n",
       "    </tr>\n",
       "    <tr>\n",
       "      <th>3</th>\n",
       "      <td>3</td>\n",
       "      <td>All-New Fire HD 8 Tablet, 8 HD Display, Wi-Fi,...</td>\n",
       "      <td>Electronics,iPad &amp; Tablets,All Tablets,Fire Ta...</td>\n",
       "      <td>True</td>\n",
       "      <td>4.0</td>\n",
       "      <td>I've had my Fire HD 8 two weeks now and I love...</td>\n",
       "      <td>Good!!!</td>\n",
       "      <td>1</td>\n",
       "    </tr>\n",
       "    <tr>\n",
       "      <th>4</th>\n",
       "      <td>4</td>\n",
       "      <td>All-New Fire HD 8 Tablet, 8 HD Display, Wi-Fi,...</td>\n",
       "      <td>Electronics,iPad &amp; Tablets,All Tablets,Fire Ta...</td>\n",
       "      <td>True</td>\n",
       "      <td>5.0</td>\n",
       "      <td>I bought this for my grand daughter when she c...</td>\n",
       "      <td>Fantastic Tablet for kids</td>\n",
       "      <td>1</td>\n",
       "    </tr>\n",
       "    <tr>\n",
       "      <th>...</th>\n",
       "      <td>...</td>\n",
       "      <td>...</td>\n",
       "      <td>...</td>\n",
       "      <td>...</td>\n",
       "      <td>...</td>\n",
       "      <td>...</td>\n",
       "      <td>...</td>\n",
       "      <td>...</td>\n",
       "    </tr>\n",
       "    <tr>\n",
       "      <th>27177</th>\n",
       "      <td>27895</td>\n",
       "      <td>New Amazon Kindle Fire Hd 9w Powerfast Adapter...</td>\n",
       "      <td>Stereos,Remote Controls,Amazon Echo,Audio Dock...</td>\n",
       "      <td>True</td>\n",
       "      <td>5.0</td>\n",
       "      <td>This is my new favorite device. While not perf...</td>\n",
       "      <td>My new favorite product</td>\n",
       "      <td>1</td>\n",
       "    </tr>\n",
       "    <tr>\n",
       "      <th>27178</th>\n",
       "      <td>27896</td>\n",
       "      <td>New Amazon Kindle Fire Hd 9w Powerfast Adapter...</td>\n",
       "      <td>Stereos,Remote Controls,Amazon Echo,Audio Dock...</td>\n",
       "      <td>True</td>\n",
       "      <td>5.0</td>\n",
       "      <td>I got this to basically experiment with. Strai...</td>\n",
       "      <td>Lots of potential!!!</td>\n",
       "      <td>1</td>\n",
       "    </tr>\n",
       "    <tr>\n",
       "      <th>27179</th>\n",
       "      <td>27897</td>\n",
       "      <td>New Amazon Kindle Fire Hd 9w Powerfast Adapter...</td>\n",
       "      <td>Stereos,Remote Controls,Amazon Echo,Audio Dock...</td>\n",
       "      <td>True</td>\n",
       "      <td>4.0</td>\n",
       "      <td>Good product that does the basics. Too bad you...</td>\n",
       "      <td>Good First Generation Product</td>\n",
       "      <td>1</td>\n",
       "    </tr>\n",
       "    <tr>\n",
       "      <th>27180</th>\n",
       "      <td>27898</td>\n",
       "      <td>New Amazon Kindle Fire Hd 9w Powerfast Adapter...</td>\n",
       "      <td>Stereos,Remote Controls,Amazon Echo,Audio Dock...</td>\n",
       "      <td>False</td>\n",
       "      <td>3.0</td>\n",
       "      <td>This is great for a connected home. People who...</td>\n",
       "      <td>Great for a \"connected home\"</td>\n",
       "      <td>-1</td>\n",
       "    </tr>\n",
       "    <tr>\n",
       "      <th>27181</th>\n",
       "      <td>27899</td>\n",
       "      <td>New Amazon Kindle Fire Hd 9w Powerfast Adapter...</td>\n",
       "      <td>Stereos,Remote Controls,Amazon Echo,Audio Dock...</td>\n",
       "      <td>True</td>\n",
       "      <td>5.0</td>\n",
       "      <td>Cool product. Amazon does a cool job with it. ...</td>\n",
       "      <td>Cool toy</td>\n",
       "      <td>1</td>\n",
       "    </tr>\n",
       "  </tbody>\n",
       "</table>\n",
       "<p>27182 rows × 8 columns</p>\n",
       "</div>"
      ],
      "text/plain": [
       "       Index                                               name  \\\n",
       "0          0  All-New Fire HD 8 Tablet, 8 HD Display, Wi-Fi,...   \n",
       "1          1  All-New Fire HD 8 Tablet, 8 HD Display, Wi-Fi,...   \n",
       "2          2  All-New Fire HD 8 Tablet, 8 HD Display, Wi-Fi,...   \n",
       "3          3  All-New Fire HD 8 Tablet, 8 HD Display, Wi-Fi,...   \n",
       "4          4  All-New Fire HD 8 Tablet, 8 HD Display, Wi-Fi,...   \n",
       "...      ...                                                ...   \n",
       "27177  27895  New Amazon Kindle Fire Hd 9w Powerfast Adapter...   \n",
       "27178  27896  New Amazon Kindle Fire Hd 9w Powerfast Adapter...   \n",
       "27179  27897  New Amazon Kindle Fire Hd 9w Powerfast Adapter...   \n",
       "27180  27898  New Amazon Kindle Fire Hd 9w Powerfast Adapter...   \n",
       "27181  27899  New Amazon Kindle Fire Hd 9w Powerfast Adapter...   \n",
       "\n",
       "                                              categories  recommend  rating  \\\n",
       "0      Electronics,iPad & Tablets,All Tablets,Fire Ta...       True     5.0   \n",
       "1      Electronics,iPad & Tablets,All Tablets,Fire Ta...       True     5.0   \n",
       "2      Electronics,iPad & Tablets,All Tablets,Fire Ta...       True     5.0   \n",
       "3      Electronics,iPad & Tablets,All Tablets,Fire Ta...       True     4.0   \n",
       "4      Electronics,iPad & Tablets,All Tablets,Fire Ta...       True     5.0   \n",
       "...                                                  ...        ...     ...   \n",
       "27177  Stereos,Remote Controls,Amazon Echo,Audio Dock...       True     5.0   \n",
       "27178  Stereos,Remote Controls,Amazon Echo,Audio Dock...       True     5.0   \n",
       "27179  Stereos,Remote Controls,Amazon Echo,Audio Dock...       True     4.0   \n",
       "27180  Stereos,Remote Controls,Amazon Echo,Audio Dock...      False     3.0   \n",
       "27181  Stereos,Remote Controls,Amazon Echo,Audio Dock...       True     5.0   \n",
       "\n",
       "                                                  review  \\\n",
       "0      This product so far has not disappointed. My c...   \n",
       "1      great for beginner or experienced person. Boug...   \n",
       "2      Inexpensive tablet for him to use and learn on...   \n",
       "3      I've had my Fire HD 8 two weeks now and I love...   \n",
       "4      I bought this for my grand daughter when she c...   \n",
       "...                                                  ...   \n",
       "27177  This is my new favorite device. While not perf...   \n",
       "27178  I got this to basically experiment with. Strai...   \n",
       "27179  Good product that does the basics. Too bad you...   \n",
       "27180  This is great for a connected home. People who...   \n",
       "27181  Cool product. Amazon does a cool job with it. ...   \n",
       "\n",
       "                                         title  sentiment  \n",
       "0                                       Kindle          1  \n",
       "1                                    very fast          1  \n",
       "2      Beginner tablet for our 9 year old son.          1  \n",
       "3                                      Good!!!          1  \n",
       "4                    Fantastic Tablet for kids          1  \n",
       "...                                        ...        ...  \n",
       "27177                  My new favorite product          1  \n",
       "27178                     Lots of potential!!!          1  \n",
       "27179            Good First Generation Product          1  \n",
       "27180             Great for a \"connected home\"         -1  \n",
       "27181                                 Cool toy          1  \n",
       "\n",
       "[27182 rows x 8 columns]"
      ]
     },
     "execution_count": 92,
     "metadata": {},
     "output_type": "execute_result"
    }
   ],
   "source": [
    "df"
   ]
  },
  {
   "cell_type": "code",
   "execution_count": 93,
   "id": "e5hanHUTy21x",
   "metadata": {
    "colab": {
     "base_uri": "https://localhost:8080/"
    },
    "id": "e5hanHUTy21x",
    "outputId": "4d0a1978-b3f3-408f-ecdd-2c6be9640597"
   },
   "outputs": [
    {
     "data": {
      "text/plain": [
       "(27182, 8)"
      ]
     },
     "execution_count": 93,
     "metadata": {},
     "output_type": "execute_result"
    }
   ],
   "source": [
    "df.shape"
   ]
  },
  {
   "cell_type": "code",
   "execution_count": 94,
   "id": "e61d033b-b764-4596-9f78-9d0797d30870",
   "metadata": {
    "id": "e61d033b-b764-4596-9f78-9d0797d30870",
    "scrolled": true
   },
   "outputs": [],
   "source": [
    "import re\n",
    "import string\n",
    "\n",
    "# convert text string into clean tokens\n",
    "def clean_text(text: str) -> list:\n",
    "    text = str(text)\n",
    "    \n",
    "    text = text.lower()\n",
    "    text = text.strip()\n",
    "    \n",
    "    text = re.sub(' \\d+', ' ', text)\n",
    "    text = re.compile('<.*?>').sub('', text)\n",
    "    text = re.compile('[%s]' % re.escape(string.punctuation)).sub(' ', text)\n",
    "    text = re.sub('\\s+', ' ', text)\n",
    "    \n",
    "    text = text.strip()\n",
    "\n",
    "    tokens = text.split()\n",
    "    \n",
    "    stop_words = [\"a\", \"an\", \"the\", \"this\", \"that\", \"is\", \"it\", \"to\", \"and\", \"or\", \"what\", \"which\", \"how\", \"when\", \"where\",\n",
    "                 \"has\", \"had\", \"have\", \"was\", \"were\"]\n",
    "    \n",
    "    cleaned_tokens = []\n",
    "    for token in tokens:\n",
    "        cleaned_token = token\n",
    "        \n",
    "        if not cleaned_token.isalpha():\n",
    "            continue\n",
    "        \n",
    "        if len(cleaned_token) <= 1:\n",
    "            continue\n",
    "        \n",
    "        if cleaned_token not in stop_words:\n",
    "            cleaned_tokens.append(cleaned_token)\n",
    "    \n",
    "    cleaned_tokens = \" \".join(cleaned_tokens)\n",
    "        \n",
    "    return cleaned_tokens"
   ]
  },
  {
   "cell_type": "code",
   "execution_count": 95,
   "id": "3VO7iXGEz4s8",
   "metadata": {
    "colab": {
     "base_uri": "https://localhost:8080/"
    },
    "id": "3VO7iXGEz4s8",
    "outputId": "23eb010b-60f2-4ee9-d829-b255405b0d74"
   },
   "outputs": [
    {
     "data": {
      "text/plain": [
       " 1    25365\n",
       "-1     1265\n",
       " 0      552\n",
       "Name: sentiment, dtype: int64"
      ]
     },
     "execution_count": 95,
     "metadata": {},
     "output_type": "execute_result"
    }
   ],
   "source": [
    "df.sentiment.value_counts()"
   ]
  },
  {
   "cell_type": "code",
   "execution_count": 96,
   "id": "6988b734-728c-4055-b90a-db3bac56340a",
   "metadata": {
    "id": "6988b734-728c-4055-b90a-db3bac56340a"
   },
   "outputs": [],
   "source": [
    "df[\"review\"] = df[\"review\"].apply(clean_text)"
   ]
  },
  {
   "cell_type": "code",
   "execution_count": 97,
   "id": "rohkR71-BBB3",
   "metadata": {
    "colab": {
     "base_uri": "https://localhost:8080/",
     "height": 337
    },
    "id": "rohkR71-BBB3",
    "outputId": "cb554f66-2ad3-4d0a-e211-5bf8f1aa7814",
    "scrolled": true
   },
   "outputs": [
    {
     "data": {
      "text/html": [
       "<div>\n",
       "<style scoped>\n",
       "    .dataframe tbody tr th:only-of-type {\n",
       "        vertical-align: middle;\n",
       "    }\n",
       "\n",
       "    .dataframe tbody tr th {\n",
       "        vertical-align: top;\n",
       "    }\n",
       "\n",
       "    .dataframe thead th {\n",
       "        text-align: right;\n",
       "    }\n",
       "</style>\n",
       "<table border=\"1\" class=\"dataframe\">\n",
       "  <thead>\n",
       "    <tr style=\"text-align: right;\">\n",
       "      <th></th>\n",
       "      <th>Index</th>\n",
       "      <th>name</th>\n",
       "      <th>categories</th>\n",
       "      <th>recommend</th>\n",
       "      <th>rating</th>\n",
       "      <th>review</th>\n",
       "      <th>title</th>\n",
       "      <th>sentiment</th>\n",
       "    </tr>\n",
       "  </thead>\n",
       "  <tbody>\n",
       "    <tr>\n",
       "      <th>0</th>\n",
       "      <td>0</td>\n",
       "      <td>All-New Fire HD 8 Tablet, 8 HD Display, Wi-Fi,...</td>\n",
       "      <td>Electronics,iPad &amp; Tablets,All Tablets,Fire Ta...</td>\n",
       "      <td>True</td>\n",
       "      <td>5.0</td>\n",
       "      <td>product so far not disappointed my children lo...</td>\n",
       "      <td>Kindle</td>\n",
       "      <td>1</td>\n",
       "    </tr>\n",
       "    <tr>\n",
       "      <th>1</th>\n",
       "      <td>1</td>\n",
       "      <td>All-New Fire HD 8 Tablet, 8 HD Display, Wi-Fi,...</td>\n",
       "      <td>Electronics,iPad &amp; Tablets,All Tablets,Fire Ta...</td>\n",
       "      <td>True</td>\n",
       "      <td>5.0</td>\n",
       "      <td>great for beginner experienced person bought a...</td>\n",
       "      <td>very fast</td>\n",
       "      <td>1</td>\n",
       "    </tr>\n",
       "    <tr>\n",
       "      <th>2</th>\n",
       "      <td>2</td>\n",
       "      <td>All-New Fire HD 8 Tablet, 8 HD Display, Wi-Fi,...</td>\n",
       "      <td>Electronics,iPad &amp; Tablets,All Tablets,Fire Ta...</td>\n",
       "      <td>True</td>\n",
       "      <td>5.0</td>\n",
       "      <td>inexpensive tablet for him use learn on step u...</td>\n",
       "      <td>Beginner tablet for our 9 year old son.</td>\n",
       "      <td>1</td>\n",
       "    </tr>\n",
       "    <tr>\n",
       "      <th>3</th>\n",
       "      <td>3</td>\n",
       "      <td>All-New Fire HD 8 Tablet, 8 HD Display, Wi-Fi,...</td>\n",
       "      <td>Electronics,iPad &amp; Tablets,All Tablets,Fire Ta...</td>\n",
       "      <td>True</td>\n",
       "      <td>4.0</td>\n",
       "      <td>ve my fire hd two weeks now love tablet great ...</td>\n",
       "      <td>Good!!!</td>\n",
       "      <td>1</td>\n",
       "    </tr>\n",
       "    <tr>\n",
       "      <th>4</th>\n",
       "      <td>4</td>\n",
       "      <td>All-New Fire HD 8 Tablet, 8 HD Display, Wi-Fi,...</td>\n",
       "      <td>Electronics,iPad &amp; Tablets,All Tablets,Fire Ta...</td>\n",
       "      <td>True</td>\n",
       "      <td>5.0</td>\n",
       "      <td>bought for my grand daughter she comes over vi...</td>\n",
       "      <td>Fantastic Tablet for kids</td>\n",
       "      <td>1</td>\n",
       "    </tr>\n",
       "  </tbody>\n",
       "</table>\n",
       "</div>"
      ],
      "text/plain": [
       "   Index                                               name  \\\n",
       "0      0  All-New Fire HD 8 Tablet, 8 HD Display, Wi-Fi,...   \n",
       "1      1  All-New Fire HD 8 Tablet, 8 HD Display, Wi-Fi,...   \n",
       "2      2  All-New Fire HD 8 Tablet, 8 HD Display, Wi-Fi,...   \n",
       "3      3  All-New Fire HD 8 Tablet, 8 HD Display, Wi-Fi,...   \n",
       "4      4  All-New Fire HD 8 Tablet, 8 HD Display, Wi-Fi,...   \n",
       "\n",
       "                                          categories  recommend  rating  \\\n",
       "0  Electronics,iPad & Tablets,All Tablets,Fire Ta...       True     5.0   \n",
       "1  Electronics,iPad & Tablets,All Tablets,Fire Ta...       True     5.0   \n",
       "2  Electronics,iPad & Tablets,All Tablets,Fire Ta...       True     5.0   \n",
       "3  Electronics,iPad & Tablets,All Tablets,Fire Ta...       True     4.0   \n",
       "4  Electronics,iPad & Tablets,All Tablets,Fire Ta...       True     5.0   \n",
       "\n",
       "                                              review  \\\n",
       "0  product so far not disappointed my children lo...   \n",
       "1  great for beginner experienced person bought a...   \n",
       "2  inexpensive tablet for him use learn on step u...   \n",
       "3  ve my fire hd two weeks now love tablet great ...   \n",
       "4  bought for my grand daughter she comes over vi...   \n",
       "\n",
       "                                     title  sentiment  \n",
       "0                                   Kindle          1  \n",
       "1                                very fast          1  \n",
       "2  Beginner tablet for our 9 year old son.          1  \n",
       "3                                  Good!!!          1  \n",
       "4                Fantastic Tablet for kids          1  "
      ]
     },
     "execution_count": 97,
     "metadata": {},
     "output_type": "execute_result"
    }
   ],
   "source": [
    "df.head()"
   ]
  },
  {
   "cell_type": "code",
   "execution_count": 98,
   "id": "976e69bd-ac99-4c57-9733-fb3850e6c5d1",
   "metadata": {
    "id": "976e69bd-ac99-4c57-9733-fb3850e6c5d1"
   },
   "outputs": [],
   "source": [
    "Y = df['sentiment']\n",
    "X = df['review']"
   ]
  },
  {
   "cell_type": "code",
   "execution_count": 99,
   "id": "23f4fd39",
   "metadata": {},
   "outputs": [
    {
     "data": {
      "text/plain": [
       " 1    25365\n",
       "-1     1265\n",
       " 0      552\n",
       "Name: sentiment, dtype: int64"
      ]
     },
     "execution_count": 99,
     "metadata": {},
     "output_type": "execute_result"
    }
   ],
   "source": [
    "Y.value_counts()"
   ]
  },
  {
   "cell_type": "code",
   "execution_count": 100,
   "id": "99ae019e",
   "metadata": {},
   "outputs": [
    {
     "data": {
      "text/plain": [
       "Text(0.5, 1.0, 'Most frequently occuring top 30 words')"
      ]
     },
     "execution_count": 100,
     "metadata": {},
     "output_type": "execute_result"
    },
    {
     "data": {
      "image/png": "[encoded data removed]",
      "text/plain": [
       "<Figure size 1440x432 with 1 Axes>"
      ]
     },
     "metadata": {
      "needs_background": "light"
     },
     "output_type": "display_data"
    }
   ],
   "source": [
    "#top 40 most frequesntly occuring items\n",
    "from sklearn.feature_extraction.text import CountVectorizer\n",
    "import numpy as np\n",
    "import pandas as pd\n",
    "import matplotlib.pyplot as plt\n",
    "import seaborn as sns\n",
    "import warnings\n",
    "\n",
    "cv = CountVectorizer(stop_words = 'english')\n",
    "words_cv = cv.fit_transform(df.review)\n",
    "combine_words = words_cv.sum(axis=0)\n",
    "words = [(word, combine_words[0, i]) for word, i in cv.vocabulary_.items()]\n",
    "words_freq = sorted(words, key = lambda x: x[1], reverse = True)\n",
    "\n",
    "frequency = pd.DataFrame(words_freq, columns=['word', 'freq'])\n",
    "\n",
    "frequency.head(40).plot(x='word', y='freq', kind='bar', figsize=(20, 6), color = 'purple',fontsize=18)\n",
    "plt.title(\"Most frequently occuring top 30 words\",weight='bold',fontsize=20)"
   ]
  },
  {
   "cell_type": "code",
   "execution_count": 101,
   "id": "090bd9b0",
   "metadata": {},
   "outputs": [
    {
     "data": {
      "text/plain": [
       "Text(0.5, 1.0, 'Ratings count')"
      ]
     },
     "execution_count": 101,
     "metadata": {},
     "output_type": "execute_result"
    },
    {
     "data": {
      "image/png": "[encoded data removed]",
      "text/plain": [
       "<Figure size 1296x432 with 1 Axes>"
      ]
     },
     "metadata": {},
     "output_type": "display_data"
    }
   ],
   "source": [
    "#df.categories.value_counts().plot(kind='density',label=\"\",figsize=(18,6))\n",
    "df.rating.value_counts().plot(kind='pie',label=\"\",figsize=(18,6))\n",
    "plt.title(\"Ratings count\",weight='bold',fontsize=13)"
   ]
  },
  {
   "cell_type": "code",
   "execution_count": 102,
   "id": "f9541548",
   "metadata": {},
   "outputs": [],
   "source": [
    "# df = df_combo"
   ]
  },
  {
   "cell_type": "code",
   "execution_count": 182,
   "id": "6150ffb6",
   "metadata": {},
   "outputs": [],
   "source": [
    "tv = TfidfVectorizer(stop_words=None, max_features=1000)\n",
    "\n",
    "X_vec = tv.fit_transform(X)\n",
    "X_train, X_test, y_train, y_test = train_test_split(X_vec, Y, test_size=0.2, random_state=1)"
   ]
  },
  {
   "cell_type": "code",
   "execution_count": 183,
   "id": "581c3445",
   "metadata": {},
   "outputs": [
    {
     "data": {
      "text/plain": [
       "((21745, 1000), (5437, 1000))"
      ]
     },
     "execution_count": 183,
     "metadata": {},
     "output_type": "execute_result"
    }
   ],
   "source": [
    "X_train.shape, X_test.shape"
   ]
  },
  {
   "cell_type": "markdown",
   "id": "390c5125",
   "metadata": {},
   "source": [
    "# Without Oversampling"
   ]
  },
  {
   "cell_type": "markdown",
   "id": "8d42683e",
   "metadata": {},
   "source": [
    "# Naive-Bayes Classifier"
   ]
  },
  {
   "cell_type": "code",
   "execution_count": 105,
   "id": "e661d94c",
   "metadata": {},
   "outputs": [],
   "source": [
    "from sklearn.metrics import make_scorer, accuracy_score, precision_score, recall_score, f1_score\n",
    "from sklearn import model_selection\n",
    "\n",
    "scoring = {'accuracy' : make_scorer(accuracy_score), \n",
    "           'precision' : make_scorer(precision_score, average='macro'),\n",
    "           'recall' : make_scorer(recall_score, average='macro'), \n",
    "           'f1_score' : make_scorer(f1_score, average='macro')}\n",
    "\n",
    "kfold = model_selection.KFold(n_splits=10, random_state=7, shuffle=True)"
   ]
  },
  {
   "cell_type": "code",
   "execution_count": 106,
   "id": "74004eb0",
   "metadata": {},
   "outputs": [
    {
     "name": "stdout",
     "output_type": "stream",
     "text": [
      "f1 score: 0.32958218466554406\n",
      "accuracy: 0.9333748340040826\n"
     ]
    }
   ],
   "source": [
    "\n",
    "model = MultinomialNB()\n",
    "results = model_selection.cross_val_score(model, X_vec, Y, cv=kfold, scoring=scoring['f1_score'])\n",
    "\n",
    "print(f\"f1 score: {results.mean()}\")\n",
    "\n",
    "results = model_selection.cross_val_score(model, X_vec, Y, cv=kfold, scoring=scoring['accuracy'])\n",
    "\n",
    "print(f\"accuracy: {results.mean()}\")"
   ]
  },
  {
   "cell_type": "code",
   "execution_count": 107,
   "id": "fcf256bc",
   "metadata": {
    "colab": {
     "base_uri": "https://localhost:8080/"
    },
    "id": "cdc8af3d-b0e7-4a19-a572-58fc5c29e856",
    "outputId": "2830829a-e6b6-46ad-80f5-a01ab8e15c6c"
   },
   "outputs": [
    {
     "name": "stdout",
     "output_type": "stream",
     "text": [
      "              precision    recall  f1-score   support\n",
      "\n",
      "          -1       0.00      0.00      0.00       270\n",
      "           0       0.00      0.00      0.00       103\n",
      "           1       0.93      1.00      0.96      5064\n",
      "\n",
      "    accuracy                           0.93      5437\n",
      "   macro avg       0.31      0.33      0.32      5437\n",
      "weighted avg       0.87      0.93      0.90      5437\n",
      "\n"
     ]
    },
    {
     "name": "stderr",
     "output_type": "stream",
     "text": [
      "/home/saugat/.local/lib/python3.9/site-packages/sklearn/metrics/_classification.py:1318: UndefinedMetricWarning: Precision and F-score are ill-defined and being set to 0.0 in labels with no predicted samples. Use `zero_division` parameter to control this behavior.\n",
      "  _warn_prf(average, modifier, msg_start, len(result))\n",
      "/home/saugat/.local/lib/python3.9/site-packages/sklearn/metrics/_classification.py:1318: UndefinedMetricWarning: Precision and F-score are ill-defined and being set to 0.0 in labels with no predicted samples. Use `zero_division` parameter to control this behavior.\n",
      "  _warn_prf(average, modifier, msg_start, len(result))\n",
      "/home/saugat/.local/lib/python3.9/site-packages/sklearn/metrics/_classification.py:1318: UndefinedMetricWarning: Precision and F-score are ill-defined and being set to 0.0 in labels with no predicted samples. Use `zero_division` parameter to control this behavior.\n",
      "  _warn_prf(average, modifier, msg_start, len(result))\n"
     ]
    }
   ],
   "source": [
    "nb = MultinomialNB()\n",
    "nb.fit(X_train, y_train)\n",
    "y_pred_classes = nb.predict(X_test)\n",
    "\n",
    "print(classification_report(y_test, y_pred_classes))"
   ]
  },
  {
   "cell_type": "code",
   "execution_count": 108,
   "id": "cfcb0c72",
   "metadata": {},
   "outputs": [
    {
     "name": "stderr",
     "output_type": "stream",
     "text": [
      "/home/saugat/.local/lib/python3.9/site-packages/sklearn/utils/deprecation.py:87: FutureWarning: Function plot_confusion_matrix is deprecated; Function `plot_confusion_matrix` is deprecated in 1.0 and will be removed in 1.2. Use one of the class methods: ConfusionMatrixDisplay.from_predictions or ConfusionMatrixDisplay.from_estimator.\n",
      "  warnings.warn(msg, category=FutureWarning)\n"
     ]
    },
    {
     "data": {
      "image/png": "[encoded data removed]",
      "text/plain": [
       "<Figure size 432x288 with 2 Axes>"
      ]
     },
     "metadata": {
      "needs_background": "light"
     },
     "output_type": "display_data"
    }
   ],
   "source": [
    "plot = plot_confusion_matrix(nb, X_test, y_test)\n",
    "plot.figure_.savefig('./Plots/nb_orig.jpeg', dpi=200)"
   ]
  },
  {
   "cell_type": "markdown",
   "id": "737e35a0",
   "metadata": {
    "id": "a66c0c3b-0b5d-4816-8b2d-6752f9b6ab2b"
   },
   "source": [
    "# Logistic Regression Classifier"
   ]
  },
  {
   "cell_type": "code",
   "execution_count": 109,
   "id": "0e57c4cb",
   "metadata": {},
   "outputs": [
    {
     "name": "stderr",
     "output_type": "stream",
     "text": [
      "/home/saugat/.local/lib/python3.9/site-packages/sklearn/linear_model/_logistic.py:814: ConvergenceWarning: lbfgs failed to converge (status=1):\n",
      "STOP: TOTAL NO. of ITERATIONS REACHED LIMIT.\n",
      "\n",
      "Increase the number of iterations (max_iter) or scale the data as shown in:\n",
      "    https://scikit-learn.org/stable/modules/preprocessing.html\n",
      "Please also refer to the documentation for alternative solver options:\n",
      "    https://scikit-learn.org/stable/modules/linear_model.html#logistic-regression\n",
      "  n_iter_i = _check_optimize_result(\n",
      "/home/saugat/.local/lib/python3.9/site-packages/sklearn/linear_model/_logistic.py:814: ConvergenceWarning: lbfgs failed to converge (status=1):\n",
      "STOP: TOTAL NO. of ITERATIONS REACHED LIMIT.\n",
      "\n",
      "Increase the number of iterations (max_iter) or scale the data as shown in:\n",
      "    https://scikit-learn.org/stable/modules/preprocessing.html\n",
      "Please also refer to the documentation for alternative solver options:\n",
      "    https://scikit-learn.org/stable/modules/linear_model.html#logistic-regression\n",
      "  n_iter_i = _check_optimize_result(\n",
      "/home/saugat/.local/lib/python3.9/site-packages/sklearn/linear_model/_logistic.py:814: ConvergenceWarning: lbfgs failed to converge (status=1):\n",
      "STOP: TOTAL NO. of ITERATIONS REACHED LIMIT.\n",
      "\n",
      "Increase the number of iterations (max_iter) or scale the data as shown in:\n",
      "    https://scikit-learn.org/stable/modules/preprocessing.html\n",
      "Please also refer to the documentation for alternative solver options:\n",
      "    https://scikit-learn.org/stable/modules/linear_model.html#logistic-regression\n",
      "  n_iter_i = _check_optimize_result(\n",
      "/home/saugat/.local/lib/python3.9/site-packages/sklearn/linear_model/_logistic.py:814: ConvergenceWarning: lbfgs failed to converge (status=1):\n",
      "STOP: TOTAL NO. of ITERATIONS REACHED LIMIT.\n",
      "\n",
      "Increase the number of iterations (max_iter) or scale the data as shown in:\n",
      "    https://scikit-learn.org/stable/modules/preprocessing.html\n",
      "Please also refer to the documentation for alternative solver options:\n",
      "    https://scikit-learn.org/stable/modules/linear_model.html#logistic-regression\n",
      "  n_iter_i = _check_optimize_result(\n",
      "/home/saugat/.local/lib/python3.9/site-packages/sklearn/linear_model/_logistic.py:814: ConvergenceWarning: lbfgs failed to converge (status=1):\n",
      "STOP: TOTAL NO. of ITERATIONS REACHED LIMIT.\n",
      "\n",
      "Increase the number of iterations (max_iter) or scale the data as shown in:\n",
      "    https://scikit-learn.org/stable/modules/preprocessing.html\n",
      "Please also refer to the documentation for alternative solver options:\n",
      "    https://scikit-learn.org/stable/modules/linear_model.html#logistic-regression\n",
      "  n_iter_i = _check_optimize_result(\n"
     ]
    },
    {
     "name": "stdout",
     "output_type": "stream",
     "text": [
      "f1 score: 0.4815298700698298\n"
     ]
    },
    {
     "name": "stderr",
     "output_type": "stream",
     "text": [
      "/home/saugat/.local/lib/python3.9/site-packages/sklearn/linear_model/_logistic.py:814: ConvergenceWarning: lbfgs failed to converge (status=1):\n",
      "STOP: TOTAL NO. of ITERATIONS REACHED LIMIT.\n",
      "\n",
      "Increase the number of iterations (max_iter) or scale the data as shown in:\n",
      "    https://scikit-learn.org/stable/modules/preprocessing.html\n",
      "Please also refer to the documentation for alternative solver options:\n",
      "    https://scikit-learn.org/stable/modules/linear_model.html#logistic-regression\n",
      "  n_iter_i = _check_optimize_result(\n",
      "/home/saugat/.local/lib/python3.9/site-packages/sklearn/linear_model/_logistic.py:814: ConvergenceWarning: lbfgs failed to converge (status=1):\n",
      "STOP: TOTAL NO. of ITERATIONS REACHED LIMIT.\n",
      "\n",
      "Increase the number of iterations (max_iter) or scale the data as shown in:\n",
      "    https://scikit-learn.org/stable/modules/preprocessing.html\n",
      "Please also refer to the documentation for alternative solver options:\n",
      "    https://scikit-learn.org/stable/modules/linear_model.html#logistic-regression\n",
      "  n_iter_i = _check_optimize_result(\n",
      "/home/saugat/.local/lib/python3.9/site-packages/sklearn/linear_model/_logistic.py:814: ConvergenceWarning: lbfgs failed to converge (status=1):\n",
      "STOP: TOTAL NO. of ITERATIONS REACHED LIMIT.\n",
      "\n",
      "Increase the number of iterations (max_iter) or scale the data as shown in:\n",
      "    https://scikit-learn.org/stable/modules/preprocessing.html\n",
      "Please also refer to the documentation for alternative solver options:\n",
      "    https://scikit-learn.org/stable/modules/linear_model.html#logistic-regression\n",
      "  n_iter_i = _check_optimize_result(\n",
      "/home/saugat/.local/lib/python3.9/site-packages/sklearn/linear_model/_logistic.py:814: ConvergenceWarning: lbfgs failed to converge (status=1):\n",
      "STOP: TOTAL NO. of ITERATIONS REACHED LIMIT.\n",
      "\n",
      "Increase the number of iterations (max_iter) or scale the data as shown in:\n",
      "    https://scikit-learn.org/stable/modules/preprocessing.html\n",
      "Please also refer to the documentation for alternative solver options:\n",
      "    https://scikit-learn.org/stable/modules/linear_model.html#logistic-regression\n",
      "  n_iter_i = _check_optimize_result(\n"
     ]
    },
    {
     "name": "stdout",
     "output_type": "stream",
     "text": [
      "accuracy: 0.9372376845034301\n"
     ]
    },
    {
     "name": "stderr",
     "output_type": "stream",
     "text": [
      "/home/saugat/.local/lib/python3.9/site-packages/sklearn/linear_model/_logistic.py:814: ConvergenceWarning: lbfgs failed to converge (status=1):\n",
      "STOP: TOTAL NO. of ITERATIONS REACHED LIMIT.\n",
      "\n",
      "Increase the number of iterations (max_iter) or scale the data as shown in:\n",
      "    https://scikit-learn.org/stable/modules/preprocessing.html\n",
      "Please also refer to the documentation for alternative solver options:\n",
      "    https://scikit-learn.org/stable/modules/linear_model.html#logistic-regression\n",
      "  n_iter_i = _check_optimize_result(\n"
     ]
    }
   ],
   "source": [
    "model = LogisticRegression()\n",
    "results = model_selection.cross_val_score(model, X_vec, Y, cv=kfold, scoring=scoring['f1_score'])\n",
    "\n",
    "print(f\"f1 score: {results.mean()}\")\n",
    "\n",
    "results = model_selection.cross_val_score(model, X_vec, Y, cv=kfold, scoring=scoring['accuracy'])\n",
    "\n",
    "print(f\"accuracy: {results.mean()}\")"
   ]
  },
  {
   "cell_type": "code",
   "execution_count": 110,
   "id": "8cc12604",
   "metadata": {
    "colab": {
     "base_uri": "https://localhost:8080/"
    },
    "id": "3R6fzn-yPWVF",
    "outputId": "9fdd5fa1-a5d6-4893-e4fe-8f441e3b70b5"
   },
   "outputs": [
    {
     "name": "stdout",
     "output_type": "stream",
     "text": [
      "              precision    recall  f1-score   support\n",
      "\n",
      "          -1       0.40      0.07      0.12       270\n",
      "           0       0.68      0.26      0.38       103\n",
      "           1       0.94      0.99      0.97      5064\n",
      "\n",
      "    accuracy                           0.94      5437\n",
      "   macro avg       0.67      0.44      0.49      5437\n",
      "weighted avg       0.91      0.94      0.91      5437\n",
      "\n"
     ]
    }
   ],
   "source": [
    "lr = LogisticRegression()\n",
    "lr.fit(X_train, y_train)\n",
    "\n",
    "y_pred_classes = lr.predict(X_test)\n",
    "\n",
    "print(classification_report(y_test, y_pred_classes))"
   ]
  },
  {
   "cell_type": "code",
   "execution_count": 111,
   "id": "75494b40",
   "metadata": {},
   "outputs": [
    {
     "name": "stderr",
     "output_type": "stream",
     "text": [
      "/home/saugat/.local/lib/python3.9/site-packages/sklearn/utils/deprecation.py:87: FutureWarning: Function plot_confusion_matrix is deprecated; Function `plot_confusion_matrix` is deprecated in 1.0 and will be removed in 1.2. Use one of the class methods: ConfusionMatrixDisplay.from_predictions or ConfusionMatrixDisplay.from_estimator.\n",
      "  warnings.warn(msg, category=FutureWarning)\n"
     ]
    },
    {
     "data": {
      "image/png": "[encoded data removed]",
      "text/plain": [
       "<Figure size 432x288 with 2 Axes>"
      ]
     },
     "metadata": {
      "needs_background": "light"
     },
     "output_type": "display_data"
    }
   ],
   "source": [
    "plot = plot_confusion_matrix(lr, X_test, y_test)\n",
    "plot.figure_.savefig('./Plots/lr_orig.jpeg', dpi=200)"
   ]
  },
  {
   "cell_type": "markdown",
   "id": "a105e026",
   "metadata": {},
   "source": [
    "# Stochastic Gradient Descent Classifier"
   ]
  },
  {
   "cell_type": "code",
   "execution_count": 112,
   "id": "2d8737da",
   "metadata": {},
   "outputs": [
    {
     "name": "stdout",
     "output_type": "stream",
     "text": [
      "f1 score: 0.34296046115895856\n",
      "accuracy: 0.9338530998037683\n"
     ]
    }
   ],
   "source": [
    "model = SGDClassifier()\n",
    "results = model_selection.cross_val_score(model, X_vec, Y, cv=kfold, scoring=scoring['f1_score'])\n",
    "\n",
    "print(f\"f1 score: {results.mean()}\")\n",
    "\n",
    "results = model_selection.cross_val_score(model, X_vec, Y, cv=kfold, scoring=scoring['accuracy'])\n",
    "\n",
    "print(f\"accuracy: {results.mean()}\")"
   ]
  },
  {
   "cell_type": "code",
   "execution_count": 113,
   "id": "cdfc9a80",
   "metadata": {
    "colab": {
     "base_uri": "https://localhost:8080/"
    },
    "id": "qlhg1wZSrIai",
    "outputId": "4361ed24-b38d-420a-9fdf-ff6b96364cb8"
   },
   "outputs": [
    {
     "name": "stdout",
     "output_type": "stream",
     "text": [
      "              precision    recall  f1-score   support\n",
      "\n",
      "          -1       1.00      0.00      0.01       270\n",
      "           0       0.88      0.07      0.13       103\n",
      "           1       0.93      1.00      0.97      5064\n",
      "\n",
      "    accuracy                           0.93      5437\n",
      "   macro avg       0.94      0.36      0.37      5437\n",
      "weighted avg       0.94      0.93      0.90      5437\n",
      "\n"
     ]
    }
   ],
   "source": [
    "# sgd = SGDClassifier(loss='hinge', penalty='l2',alpha=1e-3, random_state=0, max_iter=15, tol=None)\n",
    "sgd = SGDClassifier()\n",
    "sgd.fit(X_train, y_train)\n",
    "\n",
    "y_pred_classes = sgd.predict(X_test)\n",
    "print(classification_report(y_test, y_pred_classes))"
   ]
  },
  {
   "cell_type": "code",
   "execution_count": 114,
   "id": "ee87765c",
   "metadata": {},
   "outputs": [
    {
     "name": "stderr",
     "output_type": "stream",
     "text": [
      "/home/saugat/.local/lib/python3.9/site-packages/sklearn/utils/deprecation.py:87: FutureWarning: Function plot_confusion_matrix is deprecated; Function `plot_confusion_matrix` is deprecated in 1.0 and will be removed in 1.2. Use one of the class methods: ConfusionMatrixDisplay.from_predictions or ConfusionMatrixDisplay.from_estimator.\n",
      "  warnings.warn(msg, category=FutureWarning)\n"
     ]
    },
    {
     "data": {
      "image/png": "[encoded data removed]",
      "text/plain": [
       "<Figure size 432x288 with 2 Axes>"
      ]
     },
     "metadata": {
      "needs_background": "light"
     },
     "output_type": "display_data"
    }
   ],
   "source": [
    "plot = plot_confusion_matrix(sgd, X_test, y_test)\n",
    "plot.figure_.savefig('./Plots/sgd_orig.jpeg', dpi=200)"
   ]
  },
  {
   "cell_type": "markdown",
   "id": "a1ec3e2b",
   "metadata": {},
   "source": [
    "# Decision Tree Classifier"
   ]
  },
  {
   "cell_type": "code",
   "execution_count": 115,
   "id": "83fc80ea",
   "metadata": {},
   "outputs": [
    {
     "name": "stdout",
     "output_type": "stream",
     "text": [
      "f1 score: 0.4303102776545309\n",
      "accuracy: 0.8983884695521471\n"
     ]
    }
   ],
   "source": [
    "model = DecisionTreeClassifier()\n",
    "results = model_selection.cross_val_score(model, X_vec, Y, cv=kfold, scoring=scoring['f1_score'])\n",
    "\n",
    "print(f\"f1 score: {results.mean()}\")\n",
    "\n",
    "results = model_selection.cross_val_score(model, X_vec, Y, cv=kfold, scoring=scoring['accuracy'])\n",
    "\n",
    "print(f\"accuracy: {results.mean()}\")"
   ]
  },
  {
   "cell_type": "code",
   "execution_count": 116,
   "id": "ff05e5ee",
   "metadata": {
    "colab": {
     "base_uri": "https://localhost:8080/"
    },
    "id": "ssvPvBM-rXd4",
    "outputId": "3f5857ff-6284-420e-f007-b7ca79904226"
   },
   "outputs": [
    {
     "name": "stdout",
     "output_type": "stream",
     "text": [
      "              precision    recall  f1-score   support\n",
      "\n",
      "          -1       0.15      0.12      0.13       270\n",
      "           0       0.21      0.19      0.20       103\n",
      "           1       0.94      0.96      0.95      5064\n",
      "\n",
      "    accuracy                           0.90      5437\n",
      "   macro avg       0.43      0.42      0.43      5437\n",
      "weighted avg       0.89      0.90      0.90      5437\n",
      "\n"
     ]
    }
   ],
   "source": [
    "dt = DecisionTreeClassifier()\n",
    "dt.fit(X_train, y_train)\n",
    "\n",
    "y_pred_classes = dt.predict(X_test)\n",
    "print(classification_report(y_test, y_pred_classes))"
   ]
  },
  {
   "cell_type": "code",
   "execution_count": 117,
   "id": "c095bf8d",
   "metadata": {},
   "outputs": [
    {
     "name": "stderr",
     "output_type": "stream",
     "text": [
      "/home/saugat/.local/lib/python3.9/site-packages/sklearn/utils/deprecation.py:87: FutureWarning: Function plot_confusion_matrix is deprecated; Function `plot_confusion_matrix` is deprecated in 1.0 and will be removed in 1.2. Use one of the class methods: ConfusionMatrixDisplay.from_predictions or ConfusionMatrixDisplay.from_estimator.\n",
      "  warnings.warn(msg, category=FutureWarning)\n"
     ]
    },
    {
     "data": {
      "image/png": "[encoded data removed]",
      "text/plain": [
       "<Figure size 432x288 with 2 Axes>"
      ]
     },
     "metadata": {
      "needs_background": "light"
     },
     "output_type": "display_data"
    }
   ],
   "source": [
    "plot = plot_confusion_matrix(dt, X_test, y_test)\n",
    "plot.figure_.savefig('./Plots/dt_orig.jpeg', dpi=200)"
   ]
  },
  {
   "cell_type": "markdown",
   "id": "732d4a2c",
   "metadata": {},
   "source": [
    "# k-NN Classifier"
   ]
  },
  {
   "cell_type": "code",
   "execution_count": 118,
   "id": "bedd4aae",
   "metadata": {},
   "outputs": [
    {
     "name": "stdout",
     "output_type": "stream",
     "text": [
      "f1 score: 0.32845609843693296\n",
      "accuracy: 0.9327126770679499\n"
     ]
    }
   ],
   "source": [
    "model = KNeighborsClassifier()\n",
    "results = model_selection.cross_val_score(model, X_vec, Y, cv=kfold, scoring=scoring['f1_score'])\n",
    "\n",
    "print(f\"f1 score: {results.mean()}\")\n",
    "\n",
    "results = model_selection.cross_val_score(model, X_vec, Y, cv=kfold, scoring=scoring['accuracy'])\n",
    "\n",
    "print(f\"accuracy: {results.mean()}\")"
   ]
  },
  {
   "cell_type": "code",
   "execution_count": 119,
   "id": "2529c8d9",
   "metadata": {
    "colab": {
     "base_uri": "https://localhost:8080/"
    },
    "id": "vj9LhZBkri3h",
    "outputId": "6711e327-f349-4139-cd6e-e4624dae6cf5"
   },
   "outputs": [
    {
     "name": "stdout",
     "output_type": "stream",
     "text": [
      "              precision    recall  f1-score   support\n",
      "\n",
      "          -1       0.40      0.01      0.01       270\n",
      "           0       0.00      0.00      0.00       103\n",
      "           1       0.93      1.00      0.96      5064\n",
      "\n",
      "    accuracy                           0.93      5437\n",
      "   macro avg       0.44      0.34      0.33      5437\n",
      "weighted avg       0.89      0.93      0.90      5437\n",
      "\n"
     ]
    }
   ],
   "source": [
    "knn = KNeighborsClassifier()\n",
    "knn.fit(X_train, y_train)\n",
    "\n",
    "y_pred_classes = knn.predict(X_test)\n",
    "print(classification_report(y_test, y_pred_classes))"
   ]
  },
  {
   "cell_type": "code",
   "execution_count": 120,
   "id": "9a748878",
   "metadata": {},
   "outputs": [
    {
     "name": "stderr",
     "output_type": "stream",
     "text": [
      "/home/saugat/.local/lib/python3.9/site-packages/sklearn/utils/deprecation.py:87: FutureWarning: Function plot_confusion_matrix is deprecated; Function `plot_confusion_matrix` is deprecated in 1.0 and will be removed in 1.2. Use one of the class methods: ConfusionMatrixDisplay.from_predictions or ConfusionMatrixDisplay.from_estimator.\n",
      "  warnings.warn(msg, category=FutureWarning)\n"
     ]
    },
    {
     "data": {
      "image/png": "[encoded data removed]",
      "text/plain": [
       "<Figure size 432x288 with 2 Axes>"
      ]
     },
     "metadata": {
      "needs_background": "light"
     },
     "output_type": "display_data"
    }
   ],
   "source": [
    "plot = plot_confusion_matrix(knn, X_test, y_test)\n",
    "plot.figure_.savefig('./Plots/knn_orig.jpeg', dpi=200)"
   ]
  },
  {
   "cell_type": "markdown",
   "id": "d9dcdbb2",
   "metadata": {},
   "source": [
    "# Oversampling the minority classes"
   ]
  },
  {
   "cell_type": "code",
   "execution_count": 184,
   "id": "xPGlzZy-WwQR",
   "metadata": {
    "colab": {
     "base_uri": "https://localhost:8080/",
     "height": 290
    },
    "id": "xPGlzZy-WwQR",
    "outputId": "4e934e78-5862-402c-8319-73454f84ddfa"
   },
   "outputs": [],
   "source": [
    "# # solve class imbalance issue with SMOTE oversampling method\n",
    "# tv = TfidfVectorizer(stop_words=None, max_features=1000)\n",
    "# X_tfidf = tv.fit_transform(X)\n",
    "\n",
    "smt = SMOTE(random_state=777, k_neighbors=1)\n",
    "X_SMOTE, y_SMOTE = smt.fit_resample(X_train, y_train)"
   ]
  },
  {
   "cell_type": "code",
   "execution_count": 185,
   "id": "146fea03",
   "metadata": {},
   "outputs": [],
   "source": [
    "X_train, y_train = X_SMOTE, y_SMOTE"
   ]
  },
  {
   "cell_type": "markdown",
   "id": "461e3dcf",
   "metadata": {},
   "source": [
    "# Naive-Bayes Classifier"
   ]
  },
  {
   "cell_type": "code",
   "execution_count": 124,
   "id": "cdc8af3d-b0e7-4a19-a572-58fc5c29e856",
   "metadata": {
    "colab": {
     "base_uri": "https://localhost:8080/"
    },
    "id": "cdc8af3d-b0e7-4a19-a572-58fc5c29e856",
    "outputId": "2830829a-e6b6-46ad-80f5-a01ab8e15c6c"
   },
   "outputs": [
    {
     "name": "stdout",
     "output_type": "stream",
     "text": [
      "              precision    recall  f1-score   support\n",
      "\n",
      "          -1       0.16      0.55      0.24       270\n",
      "           0       0.17      0.67      0.26       103\n",
      "           1       0.98      0.79      0.88      5064\n",
      "\n",
      "    accuracy                           0.78      5437\n",
      "   macro avg       0.43      0.67      0.46      5437\n",
      "weighted avg       0.93      0.78      0.83      5437\n",
      "\n"
     ]
    }
   ],
   "source": [
    "nb = MultinomialNB()\n",
    "nb.fit(X_train, y_train)\n",
    "y_pred_classes = nb.predict(X_test)\n",
    "\n",
    "print(classification_report(y_test, y_pred_classes))"
   ]
  },
  {
   "cell_type": "code",
   "execution_count": 125,
   "id": "d214484f",
   "metadata": {},
   "outputs": [
    {
     "name": "stderr",
     "output_type": "stream",
     "text": [
      "/home/saugat/.local/lib/python3.9/site-packages/sklearn/utils/deprecation.py:87: FutureWarning: Function plot_confusion_matrix is deprecated; Function `plot_confusion_matrix` is deprecated in 1.0 and will be removed in 1.2. Use one of the class methods: ConfusionMatrixDisplay.from_predictions or ConfusionMatrixDisplay.from_estimator.\n",
      "  warnings.warn(msg, category=FutureWarning)\n"
     ]
    },
    {
     "data": {
      "image/png": "[encoded data removed]",
      "text/plain": [
       "<Figure size 432x288 with 2 Axes>"
      ]
     },
     "metadata": {
      "needs_background": "light"
     },
     "output_type": "display_data"
    }
   ],
   "source": [
    "plot = plot_confusion_matrix(nb, X_test, y_test)\n",
    "plot.figure_.savefig('./Plots/nb_over.jpeg', dpi=200)"
   ]
  },
  {
   "cell_type": "markdown",
   "id": "5bec0a41",
   "metadata": {
    "id": "a66c0c3b-0b5d-4816-8b2d-6752f9b6ab2b"
   },
   "source": [
    "# Logistic Regression Classifier"
   ]
  },
  {
   "cell_type": "code",
   "execution_count": 126,
   "id": "3R6fzn-yPWVF",
   "metadata": {
    "colab": {
     "base_uri": "https://localhost:8080/"
    },
    "id": "3R6fzn-yPWVF",
    "outputId": "9fdd5fa1-a5d6-4893-e4fe-8f441e3b70b5"
   },
   "outputs": [
    {
     "name": "stdout",
     "output_type": "stream",
     "text": [
      "              precision    recall  f1-score   support\n",
      "\n",
      "          -1       0.16      0.47      0.24       270\n",
      "           0       0.18      0.54      0.27       103\n",
      "           1       0.98      0.84      0.90      5064\n",
      "\n",
      "    accuracy                           0.81      5437\n",
      "   macro avg       0.44      0.62      0.47      5437\n",
      "weighted avg       0.92      0.81      0.86      5437\n",
      "\n"
     ]
    },
    {
     "name": "stderr",
     "output_type": "stream",
     "text": [
      "/home/saugat/.local/lib/python3.9/site-packages/sklearn/linear_model/_logistic.py:814: ConvergenceWarning: lbfgs failed to converge (status=1):\n",
      "STOP: TOTAL NO. of ITERATIONS REACHED LIMIT.\n",
      "\n",
      "Increase the number of iterations (max_iter) or scale the data as shown in:\n",
      "    https://scikit-learn.org/stable/modules/preprocessing.html\n",
      "Please also refer to the documentation for alternative solver options:\n",
      "    https://scikit-learn.org/stable/modules/linear_model.html#logistic-regression\n",
      "  n_iter_i = _check_optimize_result(\n"
     ]
    }
   ],
   "source": [
    "lr = LogisticRegression()\n",
    "lr.fit(X_train, y_train)\n",
    "\n",
    "y_pred_classes = lr.predict(X_test)\n",
    "\n",
    "print(classification_report(y_test, y_pred_classes))"
   ]
  },
  {
   "cell_type": "code",
   "execution_count": 127,
   "id": "8ec799cf",
   "metadata": {},
   "outputs": [
    {
     "name": "stderr",
     "output_type": "stream",
     "text": [
      "/home/saugat/.local/lib/python3.9/site-packages/sklearn/utils/deprecation.py:87: FutureWarning: Function plot_confusion_matrix is deprecated; Function `plot_confusion_matrix` is deprecated in 1.0 and will be removed in 1.2. Use one of the class methods: ConfusionMatrixDisplay.from_predictions or ConfusionMatrixDisplay.from_estimator.\n",
      "  warnings.warn(msg, category=FutureWarning)\n"
     ]
    },
    {
     "data": {
      "image/png": "[encoded data removed]",
      "text/plain": [
       "<Figure size 432x288 with 2 Axes>"
      ]
     },
     "metadata": {
      "needs_background": "light"
     },
     "output_type": "display_data"
    }
   ],
   "source": [
    "plot = plot_confusion_matrix(lr, X_test, y_test)\n",
    "plot.figure_.savefig('./Plots/lr_over.jpeg', dpi=200)"
   ]
  },
  {
   "cell_type": "markdown",
   "id": "50b5aafb",
   "metadata": {},
   "source": [
    "# Stochastic Gradient Descent Classifier"
   ]
  },
  {
   "cell_type": "code",
   "execution_count": 37,
   "id": "b5c1bca3",
   "metadata": {},
   "outputs": [
    {
     "name": "stdout",
     "output_type": "stream",
     "text": [
      "f1 score: 0.8569757612085628\n",
      "accuracy: 0.8569551134981068\n"
     ]
    }
   ],
   "source": [
    "model = SGDClassifier()\n",
    "results = model_selection.cross_val_score(model, X_SMOTE, y_SMOTE, cv=kfold, scoring=scoring['f1_score'])\n",
    "\n",
    "print(f\"f1 score: {results.mean()}\")\n",
    "\n",
    "results = model_selection.cross_val_score(model, X_SMOTE, y_SMOTE, cv=kfold, scoring=scoring['accuracy'])\n",
    "\n",
    "print(f\"accuracy: {results.mean()}\")"
   ]
  },
  {
   "cell_type": "code",
   "execution_count": 128,
   "id": "qlhg1wZSrIai",
   "metadata": {
    "colab": {
     "base_uri": "https://localhost:8080/"
    },
    "id": "qlhg1wZSrIai",
    "outputId": "4361ed24-b38d-420a-9fdf-ff6b96364cb8"
   },
   "outputs": [
    {
     "name": "stdout",
     "output_type": "stream",
     "text": [
      "              precision    recall  f1-score   support\n",
      "\n",
      "          -1       0.17      0.53      0.25       270\n",
      "           0       0.16      0.52      0.24       103\n",
      "           1       0.98      0.82      0.89      5064\n",
      "\n",
      "    accuracy                           0.80      5437\n",
      "   macro avg       0.43      0.62      0.46      5437\n",
      "weighted avg       0.92      0.80      0.85      5437\n",
      "\n"
     ]
    }
   ],
   "source": [
    "# sgd = SGDClassifier(loss='hinge', penalty='l2',alpha=1e-3, random_state=0, max_iter=15, tol=None)\n",
    "sgd = SGDClassifier()\n",
    "sgd.fit(X_train, y_train)\n",
    "\n",
    "y_pred_classes = sgd.predict(X_test)\n",
    "print(classification_report(y_test, y_pred_classes))"
   ]
  },
  {
   "cell_type": "code",
   "execution_count": 129,
   "id": "7b2d0783",
   "metadata": {},
   "outputs": [
    {
     "name": "stderr",
     "output_type": "stream",
     "text": [
      "/home/saugat/.local/lib/python3.9/site-packages/sklearn/utils/deprecation.py:87: FutureWarning: Function plot_confusion_matrix is deprecated; Function `plot_confusion_matrix` is deprecated in 1.0 and will be removed in 1.2. Use one of the class methods: ConfusionMatrixDisplay.from_predictions or ConfusionMatrixDisplay.from_estimator.\n",
      "  warnings.warn(msg, category=FutureWarning)\n"
     ]
    },
    {
     "data": {
      "image/png": "[encoded data removed]",
      "text/plain": [
       "<Figure size 432x288 with 2 Axes>"
      ]
     },
     "metadata": {
      "needs_background": "light"
     },
     "output_type": "display_data"
    }
   ],
   "source": [
    "plot = plot_confusion_matrix(sgd, X_test, y_test)\n",
    "plot.figure_.savefig('./Plots/sgd_over.jpeg', dpi=200)"
   ]
  },
  {
   "cell_type": "markdown",
   "id": "621514df",
   "metadata": {},
   "source": [
    "# Decision Tree Classifier"
   ]
  },
  {
   "cell_type": "code",
   "execution_count": 130,
   "id": "ssvPvBM-rXd4",
   "metadata": {
    "colab": {
     "base_uri": "https://localhost:8080/"
    },
    "id": "ssvPvBM-rXd4",
    "outputId": "3f5857ff-6284-420e-f007-b7ca79904226"
   },
   "outputs": [
    {
     "name": "stdout",
     "output_type": "stream",
     "text": [
      "              precision    recall  f1-score   support\n",
      "\n",
      "          -1       0.12      0.19      0.15       270\n",
      "           0       0.11      0.19      0.14       103\n",
      "           1       0.95      0.90      0.92      5064\n",
      "\n",
      "    accuracy                           0.85      5437\n",
      "   macro avg       0.39      0.43      0.40      5437\n",
      "weighted avg       0.89      0.85      0.87      5437\n",
      "\n"
     ]
    }
   ],
   "source": [
    "dt = DecisionTreeClassifier()\n",
    "dt.fit(X_train, y_train)\n",
    "\n",
    "y_pred_classes = dt.predict(X_test)\n",
    "print(classification_report(y_test, y_pred_classes))"
   ]
  },
  {
   "cell_type": "code",
   "execution_count": 131,
   "id": "7b3f47b1",
   "metadata": {},
   "outputs": [
    {
     "name": "stderr",
     "output_type": "stream",
     "text": [
      "/home/saugat/.local/lib/python3.9/site-packages/sklearn/utils/deprecation.py:87: FutureWarning: Function plot_confusion_matrix is deprecated; Function `plot_confusion_matrix` is deprecated in 1.0 and will be removed in 1.2. Use one of the class methods: ConfusionMatrixDisplay.from_predictions or ConfusionMatrixDisplay.from_estimator.\n",
      "  warnings.warn(msg, category=FutureWarning)\n"
     ]
    },
    {
     "data": {
      "image/png": "[encoded data removed]",
      "text/plain": [
       "<Figure size 432x288 with 2 Axes>"
      ]
     },
     "metadata": {
      "needs_background": "light"
     },
     "output_type": "display_data"
    }
   ],
   "source": [
    "plot = plot_confusion_matrix(dt, X_test, y_test)\n",
    "plot.figure_.savefig('./Plots/dt_over.jpeg', dpi=200)"
   ]
  },
  {
   "cell_type": "markdown",
   "id": "6a770873",
   "metadata": {},
   "source": [
    "# k-NN Classifier"
   ]
  },
  {
   "cell_type": "code",
   "execution_count": 39,
   "id": "3900bb60",
   "metadata": {},
   "outputs": [
    {
     "name": "stdout",
     "output_type": "stream",
     "text": [
      "f1 score: 0.6452363794779805\n",
      "accuracy: 0.7145016543622091\n"
     ]
    }
   ],
   "source": [
    "model = KNeighborsClassifier()\n",
    "results = model_selection.cross_val_score(model, X_SMOTE, y_SMOTE, cv=kfold, scoring=scoring['f1_score'])\n",
    "\n",
    "print(f\"f1 score: {results.mean()}\")\n",
    "\n",
    "results = model_selection.cross_val_score(model, X_SMOTE, y_SMOTE, cv=kfold, scoring=scoring['accuracy'])\n",
    "\n",
    "print(f\"accuracy: {results.mean()}\")"
   ]
  },
  {
   "cell_type": "code",
   "execution_count": 132,
   "id": "vj9LhZBkri3h",
   "metadata": {
    "colab": {
     "base_uri": "https://localhost:8080/"
    },
    "id": "vj9LhZBkri3h",
    "outputId": "6711e327-f349-4139-cd6e-e4624dae6cf5"
   },
   "outputs": [
    {
     "name": "stdout",
     "output_type": "stream",
     "text": [
      "              precision    recall  f1-score   support\n",
      "\n",
      "          -1       0.08      0.11      0.09       270\n",
      "           0       0.02      0.94      0.04       103\n",
      "           1       0.99      0.13      0.22      5064\n",
      "\n",
      "    accuracy                           0.14      5437\n",
      "   macro avg       0.36      0.39      0.12      5437\n",
      "weighted avg       0.92      0.14      0.21      5437\n",
      "\n"
     ]
    }
   ],
   "source": [
    "knn = KNeighborsClassifier()\n",
    "knn.fit(X_train, y_train)\n",
    "\n",
    "y_pred_classes = knn.predict(X_test)\n",
    "print(classification_report(y_test, y_pred_classes))"
   ]
  },
  {
   "cell_type": "code",
   "execution_count": 133,
   "id": "f8b60b63",
   "metadata": {},
   "outputs": [
    {
     "name": "stderr",
     "output_type": "stream",
     "text": [
      "/home/saugat/.local/lib/python3.9/site-packages/sklearn/utils/deprecation.py:87: FutureWarning: Function plot_confusion_matrix is deprecated; Function `plot_confusion_matrix` is deprecated in 1.0 and will be removed in 1.2. Use one of the class methods: ConfusionMatrixDisplay.from_predictions or ConfusionMatrixDisplay.from_estimator.\n",
      "  warnings.warn(msg, category=FutureWarning)\n"
     ]
    },
    {
     "data": {
      "image/png": "[encoded data removed]",
      "text/plain": [
       "<Figure size 432x288 with 2 Axes>"
      ]
     },
     "metadata": {
      "needs_background": "light"
     },
     "output_type": "display_data"
    }
   ],
   "source": [
    "plot = plot_confusion_matrix(knn, X_test, y_test)\n",
    "plot.figure_.savefig('./Plots/knn_over.jpeg', dpi=200)"
   ]
  },
  {
   "cell_type": "markdown",
   "id": "4d5fa60b",
   "metadata": {},
   "source": [
    "# Ensemble"
   ]
  },
  {
   "cell_type": "code",
   "execution_count": 134,
   "id": "51afd5f1",
   "metadata": {},
   "outputs": [],
   "source": [
    "import copy"
   ]
  },
  {
   "cell_type": "code",
   "execution_count": 135,
   "id": "45eca2b4",
   "metadata": {},
   "outputs": [],
   "source": [
    "from sklearn.ensemble import VotingClassifier, BaggingClassifier, AdaBoostClassifier, GradientBoostingClassifier\n",
    "from sklearn import model_selection\n",
    "from sklearn.metrics import make_scorer, accuracy_score, precision_score, recall_score, f1_score\n",
    "\n",
    "scoring = {'accuracy' : make_scorer(accuracy_score), \n",
    "           'precision' : make_scorer(precision_score, average='macro'),\n",
    "           'recall' : make_scorer(recall_score, average='macro'), \n",
    "           'f1_score' : make_scorer(f1_score, average='macro')}\n",
    "\n",
    "nb = MultinomialNB()\n",
    "lr = LogisticRegression()\n",
    "sgd = SGDClassifier()\n",
    "dt = DecisionTreeClassifier()\n",
    "knn = KNeighborsClassifier()\n",
    "rf = RandomForestClassifier()\n",
    "\n",
    "estimators = []\n",
    "estimators.append(('nb', nb))\n",
    "estimators.append(('lr', lr))\n",
    "estimators.append(('sgd', sgd))\n",
    "estimators.append(('dt', dt))\n",
    "estimators.append(('knn', knn))\n",
    "\n",
    "kfold = model_selection.KFold(n_splits=10, random_state=7, shuffle=True)"
   ]
  },
  {
   "cell_type": "markdown",
   "id": "abbc099a",
   "metadata": {},
   "source": [
    "# Without oversampling"
   ]
  },
  {
   "cell_type": "code",
   "execution_count": 136,
   "id": "78338357",
   "metadata": {},
   "outputs": [
    {
     "name": "stderr",
     "output_type": "stream",
     "text": [
      "/home/saugat/.local/lib/python3.9/site-packages/sklearn/linear_model/_logistic.py:814: ConvergenceWarning: lbfgs failed to converge (status=1):\n",
      "STOP: TOTAL NO. of ITERATIONS REACHED LIMIT.\n",
      "\n",
      "Increase the number of iterations (max_iter) or scale the data as shown in:\n",
      "    https://scikit-learn.org/stable/modules/preprocessing.html\n",
      "Please also refer to the documentation for alternative solver options:\n",
      "    https://scikit-learn.org/stable/modules/linear_model.html#logistic-regression\n",
      "  n_iter_i = _check_optimize_result(\n",
      "/home/saugat/.local/lib/python3.9/site-packages/sklearn/linear_model/_logistic.py:814: ConvergenceWarning: lbfgs failed to converge (status=1):\n",
      "STOP: TOTAL NO. of ITERATIONS REACHED LIMIT.\n",
      "\n",
      "Increase the number of iterations (max_iter) or scale the data as shown in:\n",
      "    https://scikit-learn.org/stable/modules/preprocessing.html\n",
      "Please also refer to the documentation for alternative solver options:\n",
      "    https://scikit-learn.org/stable/modules/linear_model.html#logistic-regression\n",
      "  n_iter_i = _check_optimize_result(\n",
      "/home/saugat/.local/lib/python3.9/site-packages/sklearn/linear_model/_logistic.py:814: ConvergenceWarning: lbfgs failed to converge (status=1):\n",
      "STOP: TOTAL NO. of ITERATIONS REACHED LIMIT.\n",
      "\n",
      "Increase the number of iterations (max_iter) or scale the data as shown in:\n",
      "    https://scikit-learn.org/stable/modules/preprocessing.html\n",
      "Please also refer to the documentation for alternative solver options:\n",
      "    https://scikit-learn.org/stable/modules/linear_model.html#logistic-regression\n",
      "  n_iter_i = _check_optimize_result(\n",
      "/home/saugat/.local/lib/python3.9/site-packages/sklearn/linear_model/_logistic.py:814: ConvergenceWarning: lbfgs failed to converge (status=1):\n",
      "STOP: TOTAL NO. of ITERATIONS REACHED LIMIT.\n",
      "\n",
      "Increase the number of iterations (max_iter) or scale the data as shown in:\n",
      "    https://scikit-learn.org/stable/modules/preprocessing.html\n",
      "Please also refer to the documentation for alternative solver options:\n",
      "    https://scikit-learn.org/stable/modules/linear_model.html#logistic-regression\n",
      "  n_iter_i = _check_optimize_result(\n",
      "/home/saugat/.local/lib/python3.9/site-packages/sklearn/linear_model/_logistic.py:814: ConvergenceWarning: lbfgs failed to converge (status=1):\n",
      "STOP: TOTAL NO. of ITERATIONS REACHED LIMIT.\n",
      "\n",
      "Increase the number of iterations (max_iter) or scale the data as shown in:\n",
      "    https://scikit-learn.org/stable/modules/preprocessing.html\n",
      "Please also refer to the documentation for alternative solver options:\n",
      "    https://scikit-learn.org/stable/modules/linear_model.html#logistic-regression\n",
      "  n_iter_i = _check_optimize_result(\n"
     ]
    },
    {
     "name": "stdout",
     "output_type": "stream",
     "text": [
      "0.3328504104954342\n"
     ]
    },
    {
     "name": "stderr",
     "output_type": "stream",
     "text": [
      "/home/saugat/.local/lib/python3.9/site-packages/sklearn/linear_model/_logistic.py:814: ConvergenceWarning: lbfgs failed to converge (status=1):\n",
      "STOP: TOTAL NO. of ITERATIONS REACHED LIMIT.\n",
      "\n",
      "Increase the number of iterations (max_iter) or scale the data as shown in:\n",
      "    https://scikit-learn.org/stable/modules/preprocessing.html\n",
      "Please also refer to the documentation for alternative solver options:\n",
      "    https://scikit-learn.org/stable/modules/linear_model.html#logistic-regression\n",
      "  n_iter_i = _check_optimize_result(\n",
      "/home/saugat/.local/lib/python3.9/site-packages/sklearn/linear_model/_logistic.py:814: ConvergenceWarning: lbfgs failed to converge (status=1):\n",
      "STOP: TOTAL NO. of ITERATIONS REACHED LIMIT.\n",
      "\n",
      "Increase the number of iterations (max_iter) or scale the data as shown in:\n",
      "    https://scikit-learn.org/stable/modules/preprocessing.html\n",
      "Please also refer to the documentation for alternative solver options:\n",
      "    https://scikit-learn.org/stable/modules/linear_model.html#logistic-regression\n",
      "  n_iter_i = _check_optimize_result(\n",
      "/home/saugat/.local/lib/python3.9/site-packages/sklearn/linear_model/_logistic.py:814: ConvergenceWarning: lbfgs failed to converge (status=1):\n",
      "STOP: TOTAL NO. of ITERATIONS REACHED LIMIT.\n",
      "\n",
      "Increase the number of iterations (max_iter) or scale the data as shown in:\n",
      "    https://scikit-learn.org/stable/modules/preprocessing.html\n",
      "Please also refer to the documentation for alternative solver options:\n",
      "    https://scikit-learn.org/stable/modules/linear_model.html#logistic-regression\n",
      "  n_iter_i = _check_optimize_result(\n",
      "/home/saugat/.local/lib/python3.9/site-packages/sklearn/linear_model/_logistic.py:814: ConvergenceWarning: lbfgs failed to converge (status=1):\n",
      "STOP: TOTAL NO. of ITERATIONS REACHED LIMIT.\n",
      "\n",
      "Increase the number of iterations (max_iter) or scale the data as shown in:\n",
      "    https://scikit-learn.org/stable/modules/preprocessing.html\n",
      "Please also refer to the documentation for alternative solver options:\n",
      "    https://scikit-learn.org/stable/modules/linear_model.html#logistic-regression\n",
      "  n_iter_i = _check_optimize_result(\n",
      "/home/saugat/.local/lib/python3.9/site-packages/sklearn/linear_model/_logistic.py:814: ConvergenceWarning: lbfgs failed to converge (status=1):\n",
      "STOP: TOTAL NO. of ITERATIONS REACHED LIMIT.\n",
      "\n",
      "Increase the number of iterations (max_iter) or scale the data as shown in:\n",
      "    https://scikit-learn.org/stable/modules/preprocessing.html\n",
      "Please also refer to the documentation for alternative solver options:\n",
      "    https://scikit-learn.org/stable/modules/linear_model.html#logistic-regression\n",
      "  n_iter_i = _check_optimize_result(\n"
     ]
    },
    {
     "name": "stdout",
     "output_type": "stream",
     "text": [
      "0.9335955710246024\n"
     ]
    }
   ],
   "source": [
    "ensemble = VotingClassifier(estimators)\n",
    "\n",
    "results = model_selection.cross_val_score(ensemble, X_tfidf, Y, cv=kfold, scoring=scoring['f1_score'])\n",
    "print(results.mean())\n",
    "\n",
    "results = model_selection.cross_val_score(ensemble, X_tfidf, Y, cv=kfold, scoring=scoring['accuracy'])\n",
    "print(results.mean())"
   ]
  },
  {
   "cell_type": "markdown",
   "id": "081c56de",
   "metadata": {},
   "source": [
    "# With oversampling"
   ]
  },
  {
   "cell_type": "code",
   "execution_count": 145,
   "id": "26d3a416",
   "metadata": {},
   "outputs": [
    {
     "name": "stderr",
     "output_type": "stream",
     "text": [
      "/home/saugat/.local/lib/python3.9/site-packages/sklearn/linear_model/_logistic.py:814: ConvergenceWarning: lbfgs failed to converge (status=1):\n",
      "STOP: TOTAL NO. of ITERATIONS REACHED LIMIT.\n",
      "\n",
      "Increase the number of iterations (max_iter) or scale the data as shown in:\n",
      "    https://scikit-learn.org/stable/modules/preprocessing.html\n",
      "Please also refer to the documentation for alternative solver options:\n",
      "    https://scikit-learn.org/stable/modules/linear_model.html#logistic-regression\n",
      "  n_iter_i = _check_optimize_result(\n"
     ]
    },
    {
     "name": "stdout",
     "output_type": "stream",
     "text": [
      "              precision    recall  f1-score   support\n",
      "\n",
      "          -1       0.17      0.52      0.26       270\n",
      "           0       0.18      0.65      0.28       103\n",
      "           1       0.98      0.82      0.89      5064\n",
      "\n",
      "    accuracy                           0.80      5437\n",
      "   macro avg       0.44      0.66      0.48      5437\n",
      "weighted avg       0.93      0.80      0.85      5437\n",
      "\n"
     ]
    }
   ],
   "source": [
    "ensemble = VotingClassifier(estimators)\n",
    "ensemble.fit(X_train, y_train)\n",
    "\n",
    "y_pred_classes = ensemble.predict(X_test)\n",
    "print(classification_report(y_test, y_pred_classes))"
   ]
  },
  {
   "cell_type": "markdown",
   "id": "53e0c7b3",
   "metadata": {},
   "source": [
    "# Bagging"
   ]
  },
  {
   "cell_type": "code",
   "execution_count": 137,
   "id": "5d354d07",
   "metadata": {},
   "outputs": [],
   "source": [
    "num_trees = 10\n",
    "model = BaggingClassifier(base_estimator=dt, n_estimators=num_trees, random_state=7)"
   ]
  },
  {
   "cell_type": "markdown",
   "id": "73ecc1ba",
   "metadata": {},
   "source": [
    "# without oversampling"
   ]
  },
  {
   "cell_type": "code",
   "execution_count": 138,
   "id": "9f9aa03b",
   "metadata": {},
   "outputs": [
    {
     "name": "stdout",
     "output_type": "stream",
     "text": [
      "0.4071839064933789\n",
      "0.9254283959848676\n"
     ]
    }
   ],
   "source": [
    "      \n",
    "results = model_selection.cross_val_score(model, X_tfidf, Y, cv=kfold, scoring=scoring['f1_score'])\n",
    "print(results.mean())\n",
    "      \n",
    "results = model_selection.cross_val_score(model, X_tfidf, Y, cv=kfold, scoring=scoring['accuracy'])\n",
    "print(results.mean())"
   ]
  },
  {
   "cell_type": "markdown",
   "id": "b9dddb3b",
   "metadata": {},
   "source": [
    "# with oversampling"
   ]
  },
  {
   "cell_type": "code",
   "execution_count": 146,
   "id": "6eb0d722",
   "metadata": {},
   "outputs": [
    {
     "name": "stdout",
     "output_type": "stream",
     "text": [
      "              precision    recall  f1-score   support\n",
      "\n",
      "          -1       0.14      0.19      0.16       270\n",
      "           0       0.19      0.26      0.22       103\n",
      "           1       0.95      0.92      0.94      5064\n",
      "\n",
      "    accuracy                           0.88      5437\n",
      "   macro avg       0.43      0.46      0.44      5437\n",
      "weighted avg       0.89      0.88      0.88      5437\n",
      "\n"
     ]
    }
   ],
   "source": [
    "ensemble = BaggingClassifier(base_estimator=dt, n_estimators=num_trees, random_state=7)\n",
    "ensemble.fit(X_train, y_train)\n",
    "\n",
    "y_pred_classes = ensemble.predict(X_test)\n",
    "print(classification_report(y_test, y_pred_classes))"
   ]
  },
  {
   "cell_type": "markdown",
   "id": "0b47d731",
   "metadata": {},
   "source": [
    "# Boosting"
   ]
  },
  {
   "cell_type": "code",
   "execution_count": 142,
   "id": "97d542e8",
   "metadata": {},
   "outputs": [],
   "source": [
    "from xgboost import XGBClassifier"
   ]
  },
  {
   "cell_type": "markdown",
   "id": "910a5cb7",
   "metadata": {},
   "source": [
    "# XGBoost"
   ]
  },
  {
   "cell_type": "code",
   "execution_count": 143,
   "id": "f997d059",
   "metadata": {},
   "outputs": [],
   "source": [
    "num_trees = 10\n",
    "kfold = model_selection.KFold(n_splits=10, random_state=7, shuffle=True)\n",
    "model = XGBClassifier()"
   ]
  },
  {
   "cell_type": "markdown",
   "id": "79f72d89",
   "metadata": {},
   "source": [
    "# without oversampling"
   ]
  },
  {
   "cell_type": "code",
   "execution_count": 159,
   "id": "81d51929",
   "metadata": {},
   "outputs": [],
   "source": [
    "def change_label(val):\n",
    "    if val == -1:\n",
    "        return 2\n",
    "    return val\n",
    "\n",
    "Y_ = Y.apply(lambda x: change_label(x))\n",
    "y_train_ = y_train.apply(lambda x: change_label(x))\n",
    "y_test_ = y_test.apply(lambda x: change_label(x))"
   ]
  },
  {
   "cell_type": "code",
   "execution_count": 161,
   "id": "a08225e3",
   "metadata": {},
   "outputs": [
    {
     "name": "stdout",
     "output_type": "stream",
     "text": [
      "0.4238363576333267\n",
      "0.9346623967117722\n"
     ]
    }
   ],
   "source": [
    "results = model_selection.cross_val_score(model, X_tfidf, Y_, cv=kfold, scoring=scoring['f1_score'])\n",
    "print(results.mean())\n",
    "      \n",
    "results = model_selection.cross_val_score(model, X_tfidf, Y_, cv=kfold, scoring=scoring['accuracy'])\n",
    "print(results.mean())"
   ]
  },
  {
   "cell_type": "markdown",
   "id": "d5f265ea",
   "metadata": {},
   "source": [
    "# with oversampling"
   ]
  },
  {
   "cell_type": "code",
   "execution_count": 158,
   "id": "c14a5cea",
   "metadata": {},
   "outputs": [
    {
     "name": "stdout",
     "output_type": "stream",
     "text": [
      "              precision    recall  f1-score   support\n",
      "\n",
      "           0       0.26      0.35      0.30       103\n",
      "           1       0.96      0.95      0.96      5064\n",
      "           2       0.26      0.24      0.25       270\n",
      "\n",
      "    accuracy                           0.91      5437\n",
      "   macro avg       0.49      0.51      0.50      5437\n",
      "weighted avg       0.91      0.91      0.91      5437\n",
      "\n"
     ]
    }
   ],
   "source": [
    "ensemble = XGBClassifier()\n",
    "ensemble.fit(X_train, y_train_)\n",
    "\n",
    "y_pred_classes = ensemble.predict(X_test)\n",
    "print(classification_report(y_test_, y_pred_classes))"
   ]
  },
  {
   "cell_type": "markdown",
   "id": "8cbc566b",
   "metadata": {},
   "source": [
    "# Deep Learning"
   ]
  },
  {
   "cell_type": "code",
   "execution_count": 1,
   "id": "69a13b15",
   "metadata": {},
   "outputs": [
    {
     "ename": "NameError",
     "evalue": "name 'y_train' is not defined",
     "output_type": "error",
     "traceback": [
      "\u001b[1;31m---------------------------------------------------------------------------\u001b[0m",
      "\u001b[1;31mNameError\u001b[0m                                 Traceback (most recent call last)",
      "\u001b[1;32m<ipython-input-1-6931d44ce5f1>\u001b[0m in \u001b[0;36m<module>\u001b[1;34m\u001b[0m\n\u001b[0;32m      4\u001b[0m     \u001b[1;32mreturn\u001b[0m \u001b[0mval\u001b[0m\u001b[1;33m\u001b[0m\u001b[1;33m\u001b[0m\u001b[0m\n\u001b[0;32m      5\u001b[0m \u001b[1;33m\u001b[0m\u001b[0m\n\u001b[1;32m----> 6\u001b[1;33m \u001b[0my_train_\u001b[0m \u001b[1;33m=\u001b[0m \u001b[0my_train\u001b[0m\u001b[1;33m.\u001b[0m\u001b[0mapply\u001b[0m\u001b[1;33m(\u001b[0m\u001b[1;32mlambda\u001b[0m \u001b[0mx\u001b[0m\u001b[1;33m:\u001b[0m \u001b[0mchange_label\u001b[0m\u001b[1;33m(\u001b[0m\u001b[0mx\u001b[0m\u001b[1;33m)\u001b[0m\u001b[1;33m)\u001b[0m\u001b[1;33m\u001b[0m\u001b[1;33m\u001b[0m\u001b[0m\n\u001b[0m\u001b[0;32m      7\u001b[0m \u001b[0my_test_\u001b[0m \u001b[1;33m=\u001b[0m \u001b[0my_test\u001b[0m\u001b[1;33m.\u001b[0m\u001b[0mapply\u001b[0m\u001b[1;33m(\u001b[0m\u001b[1;32mlambda\u001b[0m \u001b[0mx\u001b[0m\u001b[1;33m:\u001b[0m \u001b[0mchange_label\u001b[0m\u001b[1;33m(\u001b[0m\u001b[0mx\u001b[0m\u001b[1;33m)\u001b[0m\u001b[1;33m)\u001b[0m\u001b[1;33m\u001b[0m\u001b[1;33m\u001b[0m\u001b[0m\n",
      "\u001b[1;31mNameError\u001b[0m: name 'y_train' is not defined"
     ]
    }
   ],
   "source": [
    "def change_label(val):\n",
    "    if val == -1:\n",
    "        return 2\n",
    "    return val\n",
    "\n",
    "y_train_ = y_train.apply(lambda x: change_label(x))\n",
    "y_test_ = y_test.apply(lambda x: change_label(x))"
   ]
  },
  {
   "cell_type": "code",
   "execution_count": 2,
   "id": "a14ebcd2",
   "metadata": {},
   "outputs": [
    {
     "ename": "ModuleNotFoundError",
     "evalue": "No module named 'torch'",
     "output_type": "error",
     "traceback": [
      "\u001b[1;31m---------------------------------------------------------------------------\u001b[0m",
      "\u001b[1;31mModuleNotFoundError\u001b[0m                       Traceback (most recent call last)",
      "\u001b[1;32m<ipython-input-2-b33658c43044>\u001b[0m in \u001b[0;36m<module>\u001b[1;34m\u001b[0m\n\u001b[1;32m----> 1\u001b[1;33m \u001b[1;32mimport\u001b[0m \u001b[0mtorch\u001b[0m\u001b[1;33m\u001b[0m\u001b[1;33m\u001b[0m\u001b[0m\n\u001b[0m\u001b[0;32m      2\u001b[0m \u001b[1;32mimport\u001b[0m \u001b[0mtorch\u001b[0m\u001b[1;33m.\u001b[0m\u001b[0mnn\u001b[0m \u001b[1;32mas\u001b[0m \u001b[0mnn\u001b[0m\u001b[1;33m\u001b[0m\u001b[1;33m\u001b[0m\u001b[0m\n\u001b[0;32m      3\u001b[0m \u001b[1;32mimport\u001b[0m \u001b[0mtorch\u001b[0m\u001b[1;33m.\u001b[0m\u001b[0mutils\u001b[0m\u001b[1;33m.\u001b[0m\u001b[0mdata\u001b[0m \u001b[1;32mas\u001b[0m \u001b[0mtorchdata\u001b[0m\u001b[1;33m\u001b[0m\u001b[1;33m\u001b[0m\u001b[0m\n\u001b[0;32m      4\u001b[0m \u001b[1;33m\u001b[0m\u001b[0m\n\u001b[0;32m      5\u001b[0m \u001b[0mX_train\u001b[0m\u001b[1;33m,\u001b[0m \u001b[0mX_test\u001b[0m \u001b[1;33m=\u001b[0m \u001b[0mX_train\u001b[0m\u001b[1;33m.\u001b[0m\u001b[0mtoarray\u001b[0m\u001b[1;33m(\u001b[0m\u001b[1;33m)\u001b[0m\u001b[1;33m,\u001b[0m \u001b[0mX_test\u001b[0m\u001b[1;33m.\u001b[0m\u001b[0mtoarray\u001b[0m\u001b[1;33m(\u001b[0m\u001b[1;33m)\u001b[0m\u001b[1;33m\u001b[0m\u001b[1;33m\u001b[0m\u001b[0m\n",
      "\u001b[1;31mModuleNotFoundError\u001b[0m: No module named 'torch'"
     ]
    }
   ],
   "source": [
    "import torch\n",
    "import torch.nn as nn\n",
    "import torch.utils.data as torchdata\n",
    "\n",
    "X_train, X_test = X_train.toarray(), X_test.toarray()\n",
    "y_train, y_test = np.array(y_train_), np.array(y_test_)\n",
    "\n",
    "print(X_train.shape, X_test.shape)\n",
    "print(y_train.shape, y_test.shape)"
   ]
  },
  {
   "cell_type": "code",
   "execution_count": 188,
   "id": "80c89e6c",
   "metadata": {},
   "outputs": [
    {
     "name": "stdout",
     "output_type": "stream",
     "text": [
      "Create DataLoader ...\n",
      "Start Training ...\n",
      "epoch: 0, Train Loss: 0.146401, Train Acc: 0.946002, Eval Loss: 0.489094, Eval Acc: 0.913730\n",
      "epoch: 1, Train Loss: 0.016862, Train Acc: 0.995093, Eval Loss: 0.629725, Eval Acc: 0.924962\n",
      "epoch: 2, Train Loss: 0.009578, Train Acc: 0.997259, Eval Loss: 0.596368, Eval Acc: 0.919631\n",
      "epoch: 3, Train Loss: 0.008660, Train Acc: 0.997292, Eval Loss: 0.709397, Eval Acc: 0.912443\n",
      "epoch: 4, Train Loss: 0.006618, Train Acc: 0.998309, Eval Loss: 0.712160, Eval Acc: 0.924391\n",
      "epoch: 5, Train Loss: 0.004675, Train Acc: 0.998818, Eval Loss: 0.875939, Eval Acc: 0.924391\n",
      "epoch: 6, Train Loss: 0.006175, Train Acc: 0.998556, Eval Loss: 1.079212, Eval Acc: 0.927149\n",
      "epoch: 7, Train Loss: 0.004440, Train Acc: 0.998933, Eval Loss: 0.871989, Eval Acc: 0.922186\n",
      "epoch: 8, Train Loss: 0.004354, Train Acc: 0.998982, Eval Loss: 1.056524, Eval Acc: 0.916893\n",
      "epoch: 9, Train Loss: 0.003537, Train Acc: 0.999196, Eval Loss: 0.907633, Eval Acc: 0.920715\n",
      "epoch: 10, Train Loss: 0.003075, Train Acc: 0.999360, Eval Loss: 1.378912, Eval Acc: 0.928436\n",
      "epoch: 11, Train Loss: 0.004675, Train Acc: 0.999048, Eval Loss: 1.635026, Eval Acc: 0.912259\n",
      "epoch: 12, Train Loss: 0.005537, Train Acc: 0.998835, Eval Loss: 1.497338, Eval Acc: 0.922388\n",
      "epoch: 13, Train Loss: 0.003128, Train Acc: 0.999349, Eval Loss: 2.009334, Eval Acc: 0.933031\n",
      "epoch: 14, Train Loss: 0.003151, Train Acc: 0.999524, Eval Loss: 1.529472, Eval Acc: 0.925311\n",
      "epoch: 15, Train Loss: 0.003793, Train Acc: 0.999097, Eval Loss: 1.352550, Eval Acc: 0.929355\n",
      "epoch: 16, Train Loss: 0.003767, Train Acc: 0.999212, Eval Loss: 1.974494, Eval Acc: 0.913914\n",
      "epoch: 17, Train Loss: 0.002509, Train Acc: 0.999491, Eval Loss: 2.088659, Eval Acc: 0.925311\n",
      "epoch: 18, Train Loss: 0.003199, Train Acc: 0.999475, Eval Loss: 1.497335, Eval Acc: 0.923472\n",
      "epoch: 19, Train Loss: 0.001288, Train Acc: 0.999787, Eval Loss: 1.805027, Eval Acc: 0.930641\n"
     ]
    }
   ],
   "source": [
    "class ReviewDataset(torchdata.Dataset):\n",
    "    def __init__(self, train=True):\n",
    "        self.X_train = torch.from_numpy(X_train).float()\n",
    "        self.y_train = torch.from_numpy(y_train)\n",
    "        self.X_test = torch.from_numpy(X_test).float()\n",
    "        self.y_test = torch.from_numpy(y_test)\n",
    "        self.train = train\n",
    "    \n",
    "    def __getitem__(self, index):\n",
    "        if self.train:\n",
    "            return self.X_train[index], self.y_train[index]\n",
    "        else:\n",
    "            return self.X_test[index], self.y_test[index]\n",
    "\n",
    "    def __len__(self):\n",
    "        if self.train:\n",
    "            return self.X_train.shape[0]\n",
    "        else:\n",
    "            return self.X_test.shape[0]\n",
    "\n",
    "train_dataset = ReviewDataset(True)\n",
    "val_dataset = ReviewDataset(False)\n",
    "\n",
    "print(\"Create DataLoader ...\")\n",
    "train_dataloader = torch.utils.data.DataLoader(\n",
    "    train_dataset,\n",
    "    batch_size=64,\n",
    "    shuffle=True,\n",
    ")\n",
    "\n",
    "val_dataloader = torch.utils.data.DataLoader(\n",
    "    val_dataset,\n",
    "    batch_size=32,\n",
    "    shuffle=False,\n",
    ")\n",
    "\n",
    "model = nn.Sequential(\n",
    "    nn.Linear(1000, 400),\n",
    "    nn.ReLU(),\n",
    "    nn.Linear(400, 100),\n",
    "    nn.ReLU(),\n",
    "    nn.Linear(100, 3)\n",
    ")\n",
    "\n",
    "criterion = nn.CrossEntropyLoss()\n",
    "optimizer = torch.optim.Adam(model.parameters(), 1e-2)\n",
    "\n",
    "print(\"Start Training ...\")\n",
    "losses = []\n",
    "acces = []\n",
    "eval_losses = []\n",
    "eval_acces = []\n",
    "\n",
    "for e in range(20):\n",
    "    train_loss = 0\n",
    "    train_acc = 0\n",
    "    model.train()\n",
    "    for data, label in train_dataloader:\n",
    "        out = model(data)\n",
    "        loss = criterion(out, label)\n",
    "        optimizer.zero_grad()\n",
    "        loss.backward()\n",
    "        optimizer.step()\n",
    "        train_loss += loss.item()\n",
    "        _, pred = out.max(1)\n",
    "        num_correct = (pred == label).sum().item()\n",
    "        acc = num_correct / data.shape[0]\n",
    "        train_acc += acc\n",
    "        \n",
    "    losses.append(train_loss / len(train_dataloader))\n",
    "    acces.append(train_acc / len(train_dataloader))\n",
    "    eval_loss = 0\n",
    "    eval_acc = 0\n",
    "    model.eval()\n",
    "    for data, label in val_dataloader:\n",
    "        out = model(data)\n",
    "        loss = criterion(out, label)\n",
    "        eval_loss += loss.item()\n",
    "        _, pred = out.max(1)\n",
    "        num_correct = (pred == label).sum().item()\n",
    "        acc = num_correct / data.shape[0]\n",
    "        eval_acc += acc\n",
    "        \n",
    "    eval_losses.append(eval_loss / len(val_dataloader))\n",
    "    eval_acces.append(eval_acc / len(val_dataloader))\n",
    "    print('epoch: {}, Train Loss: {:.6f}, Train Acc: {:.6f}, Eval Loss: {:.6f}, Eval Acc: {:.6f}'\n",
    "          .format(e, train_loss / len(train_dataloader), train_acc / len(train_dataloader), \n",
    "                     eval_loss / len(val_dataloader), eval_acc / len(val_dataloader)))"
   ]
  },
  {
   "cell_type": "code",
   "execution_count": 189,
   "id": "25c79d95",
   "metadata": {},
   "outputs": [
    {
     "name": "stdout",
     "output_type": "stream",
     "text": [
      "              precision    recall  f1-score   support\n",
      "\n",
      "           0       0.53      0.38      0.44       103\n",
      "           1       0.95      0.99      0.97      5064\n",
      "           2       0.26      0.07      0.11       270\n",
      "\n",
      "    accuracy                           0.93      5437\n",
      "   macro avg       0.58      0.48      0.51      5437\n",
      "weighted avg       0.90      0.93      0.91      5437\n",
      "\n"
     ]
    }
   ],
   "source": [
    "pred_label = []\n",
    "for data, label in val_dataloader:\n",
    "    out = model(data)\n",
    "    _, pred = out.max(1)\n",
    "    pred = pred.numpy()\n",
    "    for el in pred:\n",
    "        pred_label.append(el)\n",
    "\n",
    "pred_label = np.array(pred_label)\n",
    "\n",
    "print(classification_report(y_test, pred_label))"
   ]
  },
  {
   "cell_type": "code",
   "execution_count": 190,
   "id": "aa40ab19",
   "metadata": {},
   "outputs": [
    {
     "data": {
      "image/png": "[encoded data removed]",
      "text/plain": [
       "<Figure size 432x288 with 2 Axes>"
      ]
     },
     "metadata": {
      "needs_background": "light"
     },
     "output_type": "display_data"
    }
   ],
   "source": [
    "import matplotlib.pyplot as plt\n",
    "from sklearn.metrics import confusion_matrix, ConfusionMatrixDisplay\n",
    "\n",
    "cm = confusion_matrix(y_test, pred_label)\n",
    "\n",
    "disp = ConfusionMatrixDisplay(confusion_matrix=cm, display_labels=['negative', 'positive', 'neutral'])\n",
    "disp.plot()\n",
    "plt.savefig('./cm2.png', dpi=300)\n",
    "plt.show()"
   ]
  },
  {
   "cell_type": "code",
   "execution_count": 192,
   "id": "ef45ad04",
   "metadata": {},
   "outputs": [
    {
     "data": {
      "text/plain": [
       "0.9142227988288938"
      ]
     },
     "execution_count": 192,
     "metadata": {},
     "output_type": "execute_result"
    }
   ],
   "source": [
    "from sklearn.metrics import f1_score\n",
    "\n",
    "f1_score(y_test, pred_label, average='weighted')"
   ]
  },
  {
   "cell_type": "code",
   "execution_count": null,
   "id": "9166da02",
   "metadata": {},
   "outputs": [],
   "source": []
  }
 ],
 "metadata": {
  "accelerator": "GPU",
  "anaconda-cloud": {},
  "colab": {
   "collapsed_sections": [],
   "name": "sentiment_new.ipynb",
   "provenance": []
  },
  "kernelspec": {
   "display_name": "Python 3",
   "language": "python",
   "name": "python3"
  },
  "language_info": {
   "codemirror_mode": {
    "name": "ipython",
    "version": 3
   },
   "file_extension": ".py",
   "mimetype": "text/x-python",
   "name": "python",
   "nbconvert_exporter": "python",
   "pygments_lexer": "ipython3",
   "version": "3.8.8"
  }
 },
 "nbformat": 4,
 "nbformat_minor": 5
}
